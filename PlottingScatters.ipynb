{
 "cells": [
  {
   "cell_type": "code",
   "execution_count": 1,
   "id": "6dbaca93",
   "metadata": {},
   "outputs": [
    {
     "name": "stderr",
     "output_type": "stream",
     "text": [
      "[*********************100%%**********************]  1 of 1 completed\n"
     ]
    }
   ],
   "source": [
    "import yfinance as yf\n",
    "data = yf.download(tickers='BTC-USD', period='3mo', interval='1d')"
   ]
  },
  {
   "cell_type": "code",
   "execution_count": 2,
   "id": "894ae0f5",
   "metadata": {},
   "outputs": [
    {
     "data": {
      "text/html": [
       "<div>\n",
       "<style scoped>\n",
       "    .dataframe tbody tr th:only-of-type {\n",
       "        vertical-align: middle;\n",
       "    }\n",
       "\n",
       "    .dataframe tbody tr th {\n",
       "        vertical-align: top;\n",
       "    }\n",
       "\n",
       "    .dataframe thead th {\n",
       "        text-align: right;\n",
       "    }\n",
       "</style>\n",
       "<table border=\"1\" class=\"dataframe\">\n",
       "  <thead>\n",
       "    <tr style=\"text-align: right;\">\n",
       "      <th></th>\n",
       "      <th>Open</th>\n",
       "      <th>High</th>\n",
       "      <th>Low</th>\n",
       "      <th>Close</th>\n",
       "      <th>Adj Close</th>\n",
       "      <th>Volume</th>\n",
       "    </tr>\n",
       "    <tr>\n",
       "      <th>Date</th>\n",
       "      <th></th>\n",
       "      <th></th>\n",
       "      <th></th>\n",
       "      <th></th>\n",
       "      <th></th>\n",
       "      <th></th>\n",
       "    </tr>\n",
       "  </thead>\n",
       "  <tbody>\n",
       "    <tr>\n",
       "      <th>2024-02-19</th>\n",
       "      <td>52134.812500</td>\n",
       "      <td>52483.324219</td>\n",
       "      <td>51711.820312</td>\n",
       "      <td>51779.144531</td>\n",
       "      <td>51779.144531</td>\n",
       "      <td>21362184346</td>\n",
       "    </tr>\n",
       "    <tr>\n",
       "      <th>2024-02-20</th>\n",
       "      <td>51777.726562</td>\n",
       "      <td>52945.050781</td>\n",
       "      <td>50792.312500</td>\n",
       "      <td>52284.875000</td>\n",
       "      <td>52284.875000</td>\n",
       "      <td>33353758256</td>\n",
       "    </tr>\n",
       "    <tr>\n",
       "      <th>2024-02-21</th>\n",
       "      <td>52273.535156</td>\n",
       "      <td>52368.816406</td>\n",
       "      <td>50671.757812</td>\n",
       "      <td>51839.179688</td>\n",
       "      <td>51839.179688</td>\n",
       "      <td>28624907020</td>\n",
       "    </tr>\n",
       "    <tr>\n",
       "      <th>2024-02-22</th>\n",
       "      <td>51854.644531</td>\n",
       "      <td>52009.613281</td>\n",
       "      <td>50926.292969</td>\n",
       "      <td>51304.972656</td>\n",
       "      <td>51304.972656</td>\n",
       "      <td>25413900611</td>\n",
       "    </tr>\n",
       "    <tr>\n",
       "      <th>2024-02-23</th>\n",
       "      <td>51283.906250</td>\n",
       "      <td>51497.933594</td>\n",
       "      <td>50561.777344</td>\n",
       "      <td>50731.949219</td>\n",
       "      <td>50731.949219</td>\n",
       "      <td>21427078270</td>\n",
       "    </tr>\n",
       "    <tr>\n",
       "      <th>...</th>\n",
       "      <td>...</td>\n",
       "      <td>...</td>\n",
       "      <td>...</td>\n",
       "      <td>...</td>\n",
       "      <td>...</td>\n",
       "      <td>...</td>\n",
       "    </tr>\n",
       "    <tr>\n",
       "      <th>2024-05-15</th>\n",
       "      <td>61553.988281</td>\n",
       "      <td>66454.453125</td>\n",
       "      <td>61330.410156</td>\n",
       "      <td>66267.492188</td>\n",
       "      <td>66267.492188</td>\n",
       "      <td>39815167074</td>\n",
       "    </tr>\n",
       "    <tr>\n",
       "      <th>2024-05-16</th>\n",
       "      <td>66256.109375</td>\n",
       "      <td>66712.429688</td>\n",
       "      <td>64613.054688</td>\n",
       "      <td>65231.582031</td>\n",
       "      <td>65231.582031</td>\n",
       "      <td>31573077994</td>\n",
       "    </tr>\n",
       "    <tr>\n",
       "      <th>2024-05-17</th>\n",
       "      <td>65231.296875</td>\n",
       "      <td>67459.460938</td>\n",
       "      <td>65119.316406</td>\n",
       "      <td>67051.875000</td>\n",
       "      <td>67051.875000</td>\n",
       "      <td>28031279310</td>\n",
       "    </tr>\n",
       "    <tr>\n",
       "      <th>2024-05-18</th>\n",
       "      <td>67066.210938</td>\n",
       "      <td>67387.328125</td>\n",
       "      <td>66663.500000</td>\n",
       "      <td>66940.804688</td>\n",
       "      <td>66940.804688</td>\n",
       "      <td>16712277406</td>\n",
       "    </tr>\n",
       "    <tr>\n",
       "      <th>2024-05-19</th>\n",
       "      <td>66931.273438</td>\n",
       "      <td>67326.328125</td>\n",
       "      <td>66886.125000</td>\n",
       "      <td>67288.187500</td>\n",
       "      <td>67288.187500</td>\n",
       "      <td>15420589056</td>\n",
       "    </tr>\n",
       "  </tbody>\n",
       "</table>\n",
       "<p>91 rows × 6 columns</p>\n",
       "</div>"
      ],
      "text/plain": [
       "                    Open          High           Low         Close  \\\n",
       "Date                                                                 \n",
       "2024-02-19  52134.812500  52483.324219  51711.820312  51779.144531   \n",
       "2024-02-20  51777.726562  52945.050781  50792.312500  52284.875000   \n",
       "2024-02-21  52273.535156  52368.816406  50671.757812  51839.179688   \n",
       "2024-02-22  51854.644531  52009.613281  50926.292969  51304.972656   \n",
       "2024-02-23  51283.906250  51497.933594  50561.777344  50731.949219   \n",
       "...                  ...           ...           ...           ...   \n",
       "2024-05-15  61553.988281  66454.453125  61330.410156  66267.492188   \n",
       "2024-05-16  66256.109375  66712.429688  64613.054688  65231.582031   \n",
       "2024-05-17  65231.296875  67459.460938  65119.316406  67051.875000   \n",
       "2024-05-18  67066.210938  67387.328125  66663.500000  66940.804688   \n",
       "2024-05-19  66931.273438  67326.328125  66886.125000  67288.187500   \n",
       "\n",
       "               Adj Close       Volume  \n",
       "Date                                   \n",
       "2024-02-19  51779.144531  21362184346  \n",
       "2024-02-20  52284.875000  33353758256  \n",
       "2024-02-21  51839.179688  28624907020  \n",
       "2024-02-22  51304.972656  25413900611  \n",
       "2024-02-23  50731.949219  21427078270  \n",
       "...                  ...          ...  \n",
       "2024-05-15  66267.492188  39815167074  \n",
       "2024-05-16  65231.582031  31573077994  \n",
       "2024-05-17  67051.875000  28031279310  \n",
       "2024-05-18  66940.804688  16712277406  \n",
       "2024-05-19  67288.187500  15420589056  \n",
       "\n",
       "[91 rows x 6 columns]"
      ]
     },
     "execution_count": 2,
     "metadata": {},
     "output_type": "execute_result"
    }
   ],
   "source": [
    "data"
   ]
  },
  {
   "cell_type": "code",
   "execution_count": 3,
   "id": "c30fdbb0",
   "metadata": {},
   "outputs": [
    {
     "data": {
      "image/png": "[encoded data removed]",
      "text/plain": [
       "<Figure size 640x480 with 1 Axes>"
      ]
     },
     "metadata": {},
     "output_type": "display_data"
    }
   ],
   "source": [
    "dfpl = data[0:100]\n",
    "import matplotlib.pyplot as plt\n",
    "plt.plot(dfpl.index, dfpl.High, \"bo\")\n",
    "#color='green', marker='o', linestyle='dashed',linewidth=2, markersize=12\n",
    "plt.show()"
   ]
  },
  {
   "cell_type": "code",
   "execution_count": 4,
   "id": "55395150",
   "metadata": {},
   "outputs": [
    {
     "data": {
      "application/vnd.plotly.v1+json": {
       "config": {
        "plotlyServerURL": "https://plot.ly"
       },
       "data": [
        {
         "close": [
          52284.875,
          51839.1796875,
          51304.97265625,
          50731.94921875,
          51571.1015625,
          51733.23828125,
          54522.40234375,
          57085.37109375,
          62504.7890625,
          61198.3828125,
          62440.6328125,
          62029.84765625,
          63167.37109375,
          68330.4140625,
          63801.19921875,
          66106.8046875,
          66925.484375,
          68300.09375,
          68498.8828125,
          69019.7890625,
          72123.90625,
          71481.2890625,
          73083.5,
          71396.59375,
          69403.7734375,
          65315.1171875,
          68390.625,
          67548.59375,
          61912.7734375,
          67913.671875,
          65491.390625,
          63778.76171875,
          64062.203125,
          67234.171875,
          69958.8125,
          69987.8359375,
          69455.34375,
          70744.953125,
          69892.828125,
          69645.3046875,
          71333.6484375,
          69702.1484375,
          65446.97265625,
          65980.8125,
          68508.84375,
          67837.640625,
          68896.109375,
          69362.5546875,
          71631.359375,
          69139.015625,
          70587.8828125,
          70060.609375,
          67195.8671875,
          63821.47265625,
          65738.7265625,
          63426.2109375,
          63811.86328125,
          61276.69140625,
          63512.75390625,
          63843.5703125,
          64994.44140625,
          64926.64453125,
          66837.6796875,
          66407.2734375,
          64276.8984375,
          64481.70703125,
          63755.3203125,
          63419.140625,
          63113.23046875,
          63841.12109375,
          60636.85546875,
          58254.01171875,
          59123.43359375,
          62889.8359375,
          63891.47265625,
          64031.1328125,
          63161.94921875,
          62334.81640625,
          61187.94140625,
          63049.9609375,
          60792.77734375,
          60793.7109375,
          61448.39453125,
          62901.44921875,
          61552.7890625,
          66267.4921875,
          65231.58203125,
          67051.875,
          66940.8046875
         ],
         "decreasing": {
          "line": {
           "color": "mediumorchid"
          }
         },
         "high": [
          52945.05078125,
          52368.81640625,
          52009.61328125,
          51497.93359375,
          51684.1953125,
          51950.02734375,
          54938.17578125,
          57537.83984375,
          63913.1328125,
          63585.64453125,
          63155.1015625,
          62458.69921875,
          63230.2109375,
          68537.03125,
          69170.625,
          67637.9296875,
          68029.921875,
          70083.0546875,
          68673.0546875,
          70005.203125,
          72850.7109375,
          72825.65625,
          73637.4765625,
          73750.0703125,
          72357.1328125,
          70046.2734375,
          68845.71875,
          68897.1328125,
          68106.9296875,
          68115.2578125,
          68199.9921875,
          66623.75,
          65976.3984375,
          67622.7578125,
          71162.59375,
          71535.7421875,
          71727.6875,
          71546.0234375,
          70913.09375,
          70355.4921875,
          71377.78125,
          71342.09375,
          69708.3828125,
          66914.3203125,
          69291.2578125,
          68725.7578125,
          69629.6015625,
          70284.4296875,
          72715.359375,
          71742.5078125,
          71093.4296875,
          71256.234375,
          71222.7421875,
          67931.4296875,
          65824.4296875,
          66878.6484375,
          64355.66796875,
          64486.36328125,
          64125.6875,
          65481.59765625,
          65442.45703125,
          65723.2421875,
          67233.9609375,
          67199.2421875,
          67075.3671875,
          65275.20703125,
          64789.65625,
          63898.36328125,
          64321.484375,
          64174.87890625,
          64703.33203125,
          60780.5,
          59602.296875,
          63320.50390625,
          64494.95703125,
          64610.890625,
          65494.90234375,
          64390.45703125,
          62986.0859375,
          63404.9140625,
          63446.7421875,
          61451.15234375,
          61818.15625,
          63422.66015625,
          63092.125,
          66454.453125,
          66712.4296875,
          67459.4609375,
          67387.328125
         ],
         "increasing": {
          "line": {
           "color": "yellow"
          }
         },
         "low": [
          50792.3125,
          50671.7578125,
          50926.29296875,
          50561.77734375,
          50585.4453125,
          51306.171875,
          50931.03125,
          54484.19921875,
          56738.42578125,
          60498.73046875,
          60802.52734375,
          61657.2890625,
          61435.0234375,
          62386.51953125,
          59323.91015625,
          62848.671875,
          65655.53125,
          66230.453125,
          68053.125,
          68239.9765625,
          67194.8828125,
          68728.8515625,
          71334.09375,
          68563.0234375,
          65630.6953125,
          64801.39453125,
          64545.31640625,
          66594.2265625,
          61536.1796875,
          60807.78515625,
          64580.91796875,
          62355.37109375,
          63038.4921875,
          63825.8515625,
          66414.8359375,
          69335.609375,
          68381.9296875,
          68895.5078125,
          69076.65625,
          69601.0625,
          69624.8671875,
          68110.6953125,
          64586.59375,
          64559.8984375,
          65113.796875,
          66011.4765625,
          67491.71875,
          68851.6328125,
          69064.2421875,
          68212.921875,
          67503.5625,
          69571.8125,
          65254.8359375,
          60919.10546875,
          62205.8515625,
          62332.0703125,
          61716.40234375,
          59768.5859375,
          60833.48046875,
          59651.390625,
          63172.40234375,
          64277.72265625,
          64548.1796875,
          65864.8671875,
          63589.87109375,
          62783.6328125,
          63322.3984375,
          62424.71875,
          62793.59765625,
          61795.45703125,
          59120.06640625,
          56555.29296875,
          56937.203125,
          58848.3125,
          62599.3515625,
          62955.3046875,
          62746.23828125,
          62285.98046875,
          60877.12890625,
          60648.07421875,
          60208.78125,
          60492.625,
          60632.6015625,
          60769.83984375,
          61123.765625,
          61330.41015625,
          64613.0546875,
          65119.31640625,
          66663.5
         ],
         "open": [
          51777.7265625,
          52273.53515625,
          51854.64453125,
          51283.90625,
          50736.37109375,
          51565.21484375,
          51730.5390625,
          54519.36328125,
          57071.09765625,
          62499.18359375,
          61168.0625,
          62431.65234375,
          62031.578125,
          63137.00390625,
          68341.0546875,
          63776.05078125,
          66099.7421875,
          66938.09375,
          68299.2578125,
          68500.2578125,
          69020.546875,
          72125.125,
          71482.1171875,
          73079.375,
          71387.875,
          69392.484375,
          65316.34375,
          68371.3046875,
          67556.1328125,
          61930.15625,
          67911.5859375,
          65489.9296875,
          63802.72265625,
          64070.75390625,
          67234.09375,
          69931.328125,
          69991.8984375,
          69452.7734375,
          70744.796875,
          69893.4453125,
          69647.78125,
          71333.484375,
          69705.0234375,
          65446.671875,
          65975.6953125,
          68515.7578125,
          67840.5703125,
          68897.109375,
          69362.5546875,
          71632.5,
          69140.2421875,
          70575.734375,
          70061.3828125,
          67188.375,
          63836.23046875,
          65739.6484375,
          63419.296875,
          63831.84765625,
          61275.31640625,
          63510.75,
          63851.1015625,
          64992.81640625,
          64935.6328125,
          66839.890625,
          66408.71875,
          64275.01953125,
          64485.37109375,
          63750.98828125,
          63423.515625,
          63106.36328125,
          63839.41796875,
          60609.49609375,
          58253.703125,
          59122.30078125,
          62891.03125,
          63892.453125,
          64038.3125,
          63162.76171875,
          62332.640625,
          61191.19921875,
          63055.19140625,
          60793.35546875,
          60793.50390625,
          61451.21875,
          62900.7734375,
          61553.98828125,
          66256.109375,
          65231.296875,
          67066.2109375
         ],
         "type": "candlestick",
         "x": [
          "2024-02-20T00:00:00",
          "2024-02-21T00:00:00",
          "2024-02-22T00:00:00",
          "2024-02-23T00:00:00",
          "2024-02-24T00:00:00",
          "2024-02-25T00:00:00",
          "2024-02-26T00:00:00",
          "2024-02-27T00:00:00",
          "2024-02-28T00:00:00",
          "2024-02-29T00:00:00",
          "2024-03-01T00:00:00",
          "2024-03-02T00:00:00",
          "2024-03-03T00:00:00",
          "2024-03-04T00:00:00",
          "2024-03-05T00:00:00",
          "2024-03-06T00:00:00",
          "2024-03-07T00:00:00",
          "2024-03-08T00:00:00",
          "2024-03-09T00:00:00",
          "2024-03-10T00:00:00",
          "2024-03-11T00:00:00",
          "2024-03-12T00:00:00",
          "2024-03-13T00:00:00",
          "2024-03-14T00:00:00",
          "2024-03-15T00:00:00",
          "2024-03-16T00:00:00",
          "2024-03-17T00:00:00",
          "2024-03-18T00:00:00",
          "2024-03-19T00:00:00",
          "2024-03-20T00:00:00",
          "2024-03-21T00:00:00",
          "2024-03-22T00:00:00",
          "2024-03-23T00:00:00",
          "2024-03-24T00:00:00",
          "2024-03-25T00:00:00",
          "2024-03-26T00:00:00",
          "2024-03-27T00:00:00",
          "2024-03-28T00:00:00",
          "2024-03-29T00:00:00",
          "2024-03-30T00:00:00",
          "2024-03-31T00:00:00",
          "2024-04-01T00:00:00",
          "2024-04-02T00:00:00",
          "2024-04-03T00:00:00",
          "2024-04-04T00:00:00",
          "2024-04-05T00:00:00",
          "2024-04-06T00:00:00",
          "2024-04-07T00:00:00",
          "2024-04-08T00:00:00",
          "2024-04-09T00:00:00",
          "2024-04-10T00:00:00",
          "2024-04-11T00:00:00",
          "2024-04-12T00:00:00",
          "2024-04-13T00:00:00",
          "2024-04-14T00:00:00",
          "2024-04-15T00:00:00",
          "2024-04-16T00:00:00",
          "2024-04-17T00:00:00",
          "2024-04-18T00:00:00",
          "2024-04-19T00:00:00",
          "2024-04-20T00:00:00",
          "2024-04-21T00:00:00",
          "2024-04-22T00:00:00",
          "2024-04-23T00:00:00",
          "2024-04-24T00:00:00",
          "2024-04-25T00:00:00",
          "2024-04-26T00:00:00",
          "2024-04-27T00:00:00",
          "2024-04-28T00:00:00",
          "2024-04-29T00:00:00",
          "2024-04-30T00:00:00",
          "2024-05-01T00:00:00",
          "2024-05-02T00:00:00",
          "2024-05-03T00:00:00",
          "2024-05-04T00:00:00",
          "2024-05-05T00:00:00",
          "2024-05-06T00:00:00",
          "2024-05-07T00:00:00",
          "2024-05-08T00:00:00",
          "2024-05-09T00:00:00",
          "2024-05-10T00:00:00",
          "2024-05-11T00:00:00",
          "2024-05-12T00:00:00",
          "2024-05-13T00:00:00",
          "2024-05-14T00:00:00",
          "2024-05-15T00:00:00",
          "2024-05-16T00:00:00",
          "2024-05-17T00:00:00",
          "2024-05-18T00:00:00"
         ]
        },
        {
         "line": {
          "color": "red",
          "width": 2
         },
         "name": "Support/Resistance",
         "type": "scatter",
         "x": [
          "2024-02-20T00:00:00",
          "2024-02-21T00:00:00",
          "2024-02-22T00:00:00",
          "2024-02-23T00:00:00",
          "2024-02-24T00:00:00",
          "2024-02-25T00:00:00",
          "2024-02-26T00:00:00",
          "2024-02-27T00:00:00",
          "2024-02-28T00:00:00",
          "2024-02-29T00:00:00",
          "2024-03-01T00:00:00",
          "2024-03-02T00:00:00",
          "2024-03-03T00:00:00",
          "2024-03-04T00:00:00",
          "2024-03-05T00:00:00",
          "2024-03-06T00:00:00",
          "2024-03-07T00:00:00",
          "2024-03-08T00:00:00",
          "2024-03-09T00:00:00",
          "2024-03-10T00:00:00",
          "2024-03-11T00:00:00",
          "2024-03-12T00:00:00",
          "2024-03-13T00:00:00",
          "2024-03-14T00:00:00",
          "2024-03-15T00:00:00",
          "2024-03-16T00:00:00",
          "2024-03-17T00:00:00",
          "2024-03-18T00:00:00",
          "2024-03-19T00:00:00",
          "2024-03-20T00:00:00",
          "2024-03-21T00:00:00",
          "2024-03-22T00:00:00",
          "2024-03-23T00:00:00",
          "2024-03-24T00:00:00",
          "2024-03-25T00:00:00",
          "2024-03-26T00:00:00",
          "2024-03-27T00:00:00",
          "2024-03-28T00:00:00",
          "2024-03-29T00:00:00",
          "2024-03-30T00:00:00",
          "2024-03-31T00:00:00",
          "2024-04-01T00:00:00",
          "2024-04-02T00:00:00",
          "2024-04-03T00:00:00",
          "2024-04-04T00:00:00",
          "2024-04-05T00:00:00",
          "2024-04-06T00:00:00",
          "2024-04-07T00:00:00",
          "2024-04-08T00:00:00",
          "2024-04-09T00:00:00",
          "2024-04-10T00:00:00",
          "2024-04-11T00:00:00",
          "2024-04-12T00:00:00",
          "2024-04-13T00:00:00",
          "2024-04-14T00:00:00",
          "2024-04-15T00:00:00",
          "2024-04-16T00:00:00",
          "2024-04-17T00:00:00",
          "2024-04-18T00:00:00",
          "2024-04-19T00:00:00",
          "2024-04-20T00:00:00",
          "2024-04-21T00:00:00",
          "2024-04-22T00:00:00",
          "2024-04-23T00:00:00",
          "2024-04-24T00:00:00",
          "2024-04-25T00:00:00",
          "2024-04-26T00:00:00",
          "2024-04-27T00:00:00",
          "2024-04-28T00:00:00",
          "2024-04-29T00:00:00",
          "2024-04-30T00:00:00",
          "2024-05-01T00:00:00",
          "2024-05-02T00:00:00",
          "2024-05-03T00:00:00",
          "2024-05-04T00:00:00",
          "2024-05-05T00:00:00",
          "2024-05-06T00:00:00",
          "2024-05-07T00:00:00",
          "2024-05-08T00:00:00",
          "2024-05-09T00:00:00",
          "2024-05-10T00:00:00",
          "2024-05-11T00:00:00",
          "2024-05-12T00:00:00",
          "2024-05-13T00:00:00",
          "2024-05-14T00:00:00",
          "2024-05-15T00:00:00",
          "2024-05-16T00:00:00",
          "2024-05-17T00:00:00",
          "2024-05-18T00:00:00"
         ],
         "y": [
          45000,
          45000,
          45000,
          45000,
          45000,
          45000,
          45000,
          45000,
          45000,
          45000,
          45000,
          45000,
          45000,
          45000,
          45000,
          45000,
          45000,
          45000,
          45000,
          45000,
          45000,
          45000,
          45000,
          45000,
          45000,
          45000,
          45000,
          45000,
          45000,
          45000,
          45000,
          45000,
          45000,
          45000,
          45000,
          45000,
          45000,
          45000,
          45000,
          45000,
          45000,
          45000,
          45000,
          45000,
          45000,
          45000,
          45000,
          45000,
          45000,
          45000,
          45000,
          45000,
          45000,
          45000,
          45000,
          45000,
          45000,
          45000,
          45000,
          45000,
          45000,
          45000,
          45000,
          45000,
          45000,
          45000,
          45000,
          45000,
          45000,
          45000,
          45000,
          45000,
          45000,
          45000,
          45000,
          45000,
          45000,
          45000,
          45000,
          45000,
          45000,
          45000,
          45000,
          45000,
          45000,
          45000,
          45000,
          45000,
          45000
         ]
        },
        {
         "line": {
          "color": "red",
          "width": 2
         },
         "name": "Support/Resistance",
         "type": "scatter",
         "x": [
          "2024-02-20T00:00:00",
          "2024-02-21T00:00:00",
          "2024-02-22T00:00:00",
          "2024-02-23T00:00:00",
          "2024-02-24T00:00:00",
          "2024-02-25T00:00:00",
          "2024-02-26T00:00:00",
          "2024-02-27T00:00:00",
          "2024-02-28T00:00:00",
          "2024-02-29T00:00:00",
          "2024-03-01T00:00:00",
          "2024-03-02T00:00:00",
          "2024-03-03T00:00:00",
          "2024-03-04T00:00:00",
          "2024-03-05T00:00:00",
          "2024-03-06T00:00:00",
          "2024-03-07T00:00:00",
          "2024-03-08T00:00:00",
          "2024-03-09T00:00:00",
          "2024-03-10T00:00:00",
          "2024-03-11T00:00:00",
          "2024-03-12T00:00:00",
          "2024-03-13T00:00:00",
          "2024-03-14T00:00:00",
          "2024-03-15T00:00:00",
          "2024-03-16T00:00:00",
          "2024-03-17T00:00:00",
          "2024-03-18T00:00:00",
          "2024-03-19T00:00:00",
          "2024-03-20T00:00:00",
          "2024-03-21T00:00:00",
          "2024-03-22T00:00:00",
          "2024-03-23T00:00:00",
          "2024-03-24T00:00:00",
          "2024-03-25T00:00:00",
          "2024-03-26T00:00:00",
          "2024-03-27T00:00:00",
          "2024-03-28T00:00:00",
          "2024-03-29T00:00:00",
          "2024-03-30T00:00:00",
          "2024-03-31T00:00:00",
          "2024-04-01T00:00:00",
          "2024-04-02T00:00:00",
          "2024-04-03T00:00:00",
          "2024-04-04T00:00:00",
          "2024-04-05T00:00:00",
          "2024-04-06T00:00:00",
          "2024-04-07T00:00:00",
          "2024-04-08T00:00:00",
          "2024-04-09T00:00:00",
          "2024-04-10T00:00:00",
          "2024-04-11T00:00:00",
          "2024-04-12T00:00:00",
          "2024-04-13T00:00:00",
          "2024-04-14T00:00:00",
          "2024-04-15T00:00:00",
          "2024-04-16T00:00:00",
          "2024-04-17T00:00:00",
          "2024-04-18T00:00:00",
          "2024-04-19T00:00:00",
          "2024-04-20T00:00:00",
          "2024-04-21T00:00:00",
          "2024-04-22T00:00:00",
          "2024-04-23T00:00:00",
          "2024-04-24T00:00:00",
          "2024-04-25T00:00:00",
          "2024-04-26T00:00:00",
          "2024-04-27T00:00:00",
          "2024-04-28T00:00:00",
          "2024-04-29T00:00:00",
          "2024-04-30T00:00:00",
          "2024-05-01T00:00:00",
          "2024-05-02T00:00:00",
          "2024-05-03T00:00:00",
          "2024-05-04T00:00:00",
          "2024-05-05T00:00:00",
          "2024-05-06T00:00:00",
          "2024-05-07T00:00:00",
          "2024-05-08T00:00:00",
          "2024-05-09T00:00:00",
          "2024-05-10T00:00:00",
          "2024-05-11T00:00:00",
          "2024-05-12T00:00:00",
          "2024-05-13T00:00:00",
          "2024-05-14T00:00:00",
          "2024-05-15T00:00:00",
          "2024-05-16T00:00:00",
          "2024-05-17T00:00:00",
          "2024-05-18T00:00:00"
         ],
         "y": [
          51000,
          51000,
          51000,
          51000,
          51000,
          51000,
          51000,
          51000,
          51000,
          51000,
          51000,
          51000,
          51000,
          51000,
          51000,
          51000,
          51000,
          51000,
          51000,
          51000,
          51000,
          51000,
          51000,
          51000,
          51000,
          51000,
          51000,
          51000,
          51000,
          51000,
          51000,
          51000,
          51000,
          51000,
          51000,
          51000,
          51000,
          51000,
          51000,
          51000,
          51000,
          51000,
          51000,
          51000,
          51000,
          51000,
          51000,
          51000,
          51000,
          51000,
          51000,
          51000,
          51000,
          51000,
          51000,
          51000,
          51000,
          51000,
          51000,
          51000,
          51000,
          51000,
          51000,
          51000,
          51000,
          51000,
          51000,
          51000,
          51000,
          51000,
          51000,
          51000,
          51000,
          51000,
          51000,
          51000,
          51000,
          51000,
          51000,
          51000,
          51000,
          51000,
          51000,
          51000,
          51000,
          51000,
          51000,
          51000,
          51000
         ]
        },
        {
         "marker": {
          "color": "moccasin",
          "size": 1
         },
         "mode": "markers",
         "name": "Signal",
         "type": "scatter",
         "x": [
          "2024-02-20T00:00:00",
          "2024-02-21T00:00:00",
          "2024-02-22T00:00:00",
          "2024-02-23T00:00:00",
          "2024-02-24T00:00:00",
          "2024-02-25T00:00:00",
          "2024-02-26T00:00:00",
          "2024-02-27T00:00:00",
          "2024-02-28T00:00:00",
          "2024-02-29T00:00:00",
          "2024-03-01T00:00:00",
          "2024-03-02T00:00:00",
          "2024-03-03T00:00:00",
          "2024-03-04T00:00:00",
          "2024-03-05T00:00:00",
          "2024-03-06T00:00:00",
          "2024-03-07T00:00:00",
          "2024-03-08T00:00:00",
          "2024-03-09T00:00:00",
          "2024-03-10T00:00:00",
          "2024-03-11T00:00:00",
          "2024-03-12T00:00:00",
          "2024-03-13T00:00:00",
          "2024-03-14T00:00:00",
          "2024-03-15T00:00:00",
          "2024-03-16T00:00:00",
          "2024-03-17T00:00:00",
          "2024-03-18T00:00:00",
          "2024-03-19T00:00:00",
          "2024-03-20T00:00:00",
          "2024-03-21T00:00:00",
          "2024-03-22T00:00:00",
          "2024-03-23T00:00:00",
          "2024-03-24T00:00:00",
          "2024-03-25T00:00:00",
          "2024-03-26T00:00:00",
          "2024-03-27T00:00:00",
          "2024-03-28T00:00:00",
          "2024-03-29T00:00:00",
          "2024-03-30T00:00:00",
          "2024-03-31T00:00:00",
          "2024-04-01T00:00:00",
          "2024-04-02T00:00:00",
          "2024-04-03T00:00:00",
          "2024-04-04T00:00:00",
          "2024-04-05T00:00:00",
          "2024-04-06T00:00:00",
          "2024-04-07T00:00:00",
          "2024-04-08T00:00:00",
          "2024-04-09T00:00:00",
          "2024-04-10T00:00:00",
          "2024-04-11T00:00:00",
          "2024-04-12T00:00:00",
          "2024-04-13T00:00:00",
          "2024-04-14T00:00:00",
          "2024-04-15T00:00:00",
          "2024-04-16T00:00:00",
          "2024-04-17T00:00:00",
          "2024-04-18T00:00:00",
          "2024-04-19T00:00:00",
          "2024-04-20T00:00:00",
          "2024-04-21T00:00:00",
          "2024-04-22T00:00:00",
          "2024-04-23T00:00:00",
          "2024-04-24T00:00:00",
          "2024-04-25T00:00:00",
          "2024-04-26T00:00:00",
          "2024-04-27T00:00:00",
          "2024-04-28T00:00:00",
          "2024-04-29T00:00:00",
          "2024-04-30T00:00:00",
          "2024-05-01T00:00:00",
          "2024-05-02T00:00:00",
          "2024-05-03T00:00:00",
          "2024-05-04T00:00:00",
          "2024-05-05T00:00:00",
          "2024-05-06T00:00:00",
          "2024-05-07T00:00:00",
          "2024-05-08T00:00:00",
          "2024-05-09T00:00:00",
          "2024-05-10T00:00:00",
          "2024-05-11T00:00:00",
          "2024-05-12T00:00:00",
          "2024-05-13T00:00:00",
          "2024-05-14T00:00:00",
          "2024-05-15T00:00:00",
          "2024-05-16T00:00:00",
          "2024-05-17T00:00:00",
          "2024-05-18T00:00:00"
         ],
         "y": [
          50692.3125,
          50571.7578125,
          50826.29296875,
          50461.77734375,
          50485.4453125,
          51206.171875,
          50831.03125,
          54384.19921875,
          56638.42578125,
          60398.73046875,
          60702.52734375,
          61557.2890625,
          61335.0234375,
          62286.51953125,
          59223.91015625,
          62748.671875,
          65555.53125,
          66130.453125,
          67953.125,
          68139.9765625,
          67094.8828125,
          68628.8515625,
          71234.09375,
          68463.0234375,
          65530.6953125,
          64701.39453125,
          64445.31640625,
          66494.2265625,
          61436.1796875,
          60707.78515625,
          64480.91796875,
          62255.37109375,
          62938.4921875,
          63725.8515625,
          66314.8359375,
          69235.609375,
          68281.9296875,
          68795.5078125,
          68976.65625,
          69501.0625,
          69524.8671875,
          68010.6953125,
          64486.59375,
          64459.8984375,
          65013.796875,
          65911.4765625,
          67391.71875,
          68751.6328125,
          68964.2421875,
          68112.921875,
          67403.5625,
          69471.8125,
          65154.8359375,
          60819.10546875,
          62105.8515625,
          62232.0703125,
          61616.40234375,
          59668.5859375,
          60733.48046875,
          59551.390625,
          63072.40234375,
          64177.72265625,
          64448.1796875,
          65764.8671875,
          63489.87109375,
          62683.6328125,
          63222.3984375,
          62324.71875,
          62693.59765625,
          61695.45703125,
          59020.06640625,
          56455.29296875,
          56837.203125,
          58748.3125,
          62499.3515625,
          62855.3046875,
          62646.23828125,
          62185.98046875,
          60777.12890625,
          60548.07421875,
          60108.78125,
          60392.625,
          60532.6015625,
          60669.83984375,
          61023.765625,
          61230.41015625,
          64513.0546875,
          65019.31640625,
          66563.5
         ]
        }
       ],
       "layout": {
        "margin": {
         "b": 0,
         "l": 0,
         "r": 50,
         "t": 0
        },
        "paper_bgcolor": "black",
        "plot_bgcolor": "black",
        "template": {
         "data": {
          "bar": [
           {
            "error_x": {
             "color": "#2a3f5f"
            },
            "error_y": {
             "color": "#2a3f5f"
            },
            "marker": {
             "line": {
              "color": "#E5ECF6",
              "width": 0.5
             },
             "pattern": {
              "fillmode": "overlay",
              "size": 10,
              "solidity": 0.2
             }
            },
            "type": "bar"
           }
          ],
          "barpolar": [
           {
            "marker": {
             "line": {
              "color": "#E5ECF6",
              "width": 0.5
             },
             "pattern": {
              "fillmode": "overlay",
              "size": 10,
              "solidity": 0.2
             }
            },
            "type": "barpolar"
           }
          ],
          "carpet": [
           {
            "aaxis": {
             "endlinecolor": "#2a3f5f",
             "gridcolor": "white",
             "linecolor": "white",
             "minorgridcolor": "white",
             "startlinecolor": "#2a3f5f"
            },
            "baxis": {
             "endlinecolor": "#2a3f5f",
             "gridcolor": "white",
             "linecolor": "white",
             "minorgridcolor": "white",
             "startlinecolor": "#2a3f5f"
            },
            "type": "carpet"
           }
          ],
          "choropleth": [
           {
            "colorbar": {
             "outlinewidth": 0,
             "ticks": ""
            },
            "type": "choropleth"
           }
          ],
          "contour": [
           {
            "colorbar": {
             "outlinewidth": 0,
             "ticks": ""
            },
            "colorscale": [
             [
              0,
              "#0d0887"
             ],
             [
              0.1111111111111111,
              "#46039f"
             ],
             [
              0.2222222222222222,
              "#7201a8"
             ],
             [
              0.3333333333333333,
              "#9c179e"
             ],
             [
              0.4444444444444444,
              "#bd3786"
             ],
             [
              0.5555555555555556,
              "#d8576b"
             ],
             [
              0.6666666666666666,
              "#ed7953"
             ],
             [
              0.7777777777777778,
              "#fb9f3a"
             ],
             [
              0.8888888888888888,
              "#fdca26"
             ],
             [
              1,
              "#f0f921"
             ]
            ],
            "type": "contour"
           }
          ],
          "contourcarpet": [
           {
            "colorbar": {
             "outlinewidth": 0,
             "ticks": ""
            },
            "type": "contourcarpet"
           }
          ],
          "heatmap": [
           {
            "colorbar": {
             "outlinewidth": 0,
             "ticks": ""
            },
            "colorscale": [
             [
              0,
              "#0d0887"
             ],
             [
              0.1111111111111111,
              "#46039f"
             ],
             [
              0.2222222222222222,
              "#7201a8"
             ],
             [
              0.3333333333333333,
              "#9c179e"
             ],
             [
              0.4444444444444444,
              "#bd3786"
             ],
             [
              0.5555555555555556,
              "#d8576b"
             ],
             [
              0.6666666666666666,
              "#ed7953"
             ],
             [
              0.7777777777777778,
              "#fb9f3a"
             ],
             [
              0.8888888888888888,
              "#fdca26"
             ],
             [
              1,
              "#f0f921"
             ]
            ],
            "type": "heatmap"
           }
          ],
          "heatmapgl": [
           {
            "colorbar": {
             "outlinewidth": 0,
             "ticks": ""
            },
            "colorscale": [
             [
              0,
              "#0d0887"
             ],
             [
              0.1111111111111111,
              "#46039f"
             ],
             [
              0.2222222222222222,
              "#7201a8"
             ],
             [
              0.3333333333333333,
              "#9c179e"
             ],
             [
              0.4444444444444444,
              "#bd3786"
             ],
             [
              0.5555555555555556,
              "#d8576b"
             ],
             [
              0.6666666666666666,
              "#ed7953"
             ],
             [
              0.7777777777777778,
              "#fb9f3a"
             ],
             [
              0.8888888888888888,
              "#fdca26"
             ],
             [
              1,
              "#f0f921"
             ]
            ],
            "type": "heatmapgl"
           }
          ],
          "histogram": [
           {
            "marker": {
             "pattern": {
              "fillmode": "overlay",
              "size": 10,
              "solidity": 0.2
             }
            },
            "type": "histogram"
           }
          ],
          "histogram2d": [
           {
            "colorbar": {
             "outlinewidth": 0,
             "ticks": ""
            },
            "colorscale": [
             [
              0,
              "#0d0887"
             ],
             [
              0.1111111111111111,
              "#46039f"
             ],
             [
              0.2222222222222222,
              "#7201a8"
             ],
             [
              0.3333333333333333,
              "#9c179e"
             ],
             [
              0.4444444444444444,
              "#bd3786"
             ],
             [
              0.5555555555555556,
              "#d8576b"
             ],
             [
              0.6666666666666666,
              "#ed7953"
             ],
             [
              0.7777777777777778,
              "#fb9f3a"
             ],
             [
              0.8888888888888888,
              "#fdca26"
             ],
             [
              1,
              "#f0f921"
             ]
            ],
            "type": "histogram2d"
           }
          ],
          "histogram2dcontour": [
           {
            "colorbar": {
             "outlinewidth": 0,
             "ticks": ""
            },
            "colorscale": [
             [
              0,
              "#0d0887"
             ],
             [
              0.1111111111111111,
              "#46039f"
             ],
             [
              0.2222222222222222,
              "#7201a8"
             ],
             [
              0.3333333333333333,
              "#9c179e"
             ],
             [
              0.4444444444444444,
              "#bd3786"
             ],
             [
              0.5555555555555556,
              "#d8576b"
             ],
             [
              0.6666666666666666,
              "#ed7953"
             ],
             [
              0.7777777777777778,
              "#fb9f3a"
             ],
             [
              0.8888888888888888,
              "#fdca26"
             ],
             [
              1,
              "#f0f921"
             ]
            ],
            "type": "histogram2dcontour"
           }
          ],
          "mesh3d": [
           {
            "colorbar": {
             "outlinewidth": 0,
             "ticks": ""
            },
            "type": "mesh3d"
           }
          ],
          "parcoords": [
           {
            "line": {
             "colorbar": {
              "outlinewidth": 0,
              "ticks": ""
             }
            },
            "type": "parcoords"
           }
          ],
          "pie": [
           {
            "automargin": true,
            "type": "pie"
           }
          ],
          "scatter": [
           {
            "fillpattern": {
             "fillmode": "overlay",
             "size": 10,
             "solidity": 0.2
            },
            "type": "scatter"
           }
          ],
          "scatter3d": [
           {
            "line": {
             "colorbar": {
              "outlinewidth": 0,
              "ticks": ""
             }
            },
            "marker": {
             "colorbar": {
              "outlinewidth": 0,
              "ticks": ""
             }
            },
            "type": "scatter3d"
           }
          ],
          "scattercarpet": [
           {
            "marker": {
             "colorbar": {
              "outlinewidth": 0,
              "ticks": ""
             }
            },
            "type": "scattercarpet"
           }
          ],
          "scattergeo": [
           {
            "marker": {
             "colorbar": {
              "outlinewidth": 0,
              "ticks": ""
             }
            },
            "type": "scattergeo"
           }
          ],
          "scattergl": [
           {
            "marker": {
             "colorbar": {
              "outlinewidth": 0,
              "ticks": ""
             }
            },
            "type": "scattergl"
           }
          ],
          "scattermapbox": [
           {
            "marker": {
             "colorbar": {
              "outlinewidth": 0,
              "ticks": ""
             }
            },
            "type": "scattermapbox"
           }
          ],
          "scatterpolar": [
           {
            "marker": {
             "colorbar": {
              "outlinewidth": 0,
              "ticks": ""
             }
            },
            "type": "scatterpolar"
           }
          ],
          "scatterpolargl": [
           {
            "marker": {
             "colorbar": {
              "outlinewidth": 0,
              "ticks": ""
             }
            },
            "type": "scatterpolargl"
           }
          ],
          "scatterternary": [
           {
            "marker": {
             "colorbar": {
              "outlinewidth": 0,
              "ticks": ""
             }
            },
            "type": "scatterternary"
           }
          ],
          "surface": [
           {
            "colorbar": {
             "outlinewidth": 0,
             "ticks": ""
            },
            "colorscale": [
             [
              0,
              "#0d0887"
             ],
             [
              0.1111111111111111,
              "#46039f"
             ],
             [
              0.2222222222222222,
              "#7201a8"
             ],
             [
              0.3333333333333333,
              "#9c179e"
             ],
             [
              0.4444444444444444,
              "#bd3786"
             ],
             [
              0.5555555555555556,
              "#d8576b"
             ],
             [
              0.6666666666666666,
              "#ed7953"
             ],
             [
              0.7777777777777778,
              "#fb9f3a"
             ],
             [
              0.8888888888888888,
              "#fdca26"
             ],
             [
              1,
              "#f0f921"
             ]
            ],
            "type": "surface"
           }
          ],
          "table": [
           {
            "cells": {
             "fill": {
              "color": "#EBF0F8"
             },
             "line": {
              "color": "white"
             }
            },
            "header": {
             "fill": {
              "color": "#C8D4E3"
             },
             "line": {
              "color": "white"
             }
            },
            "type": "table"
           }
          ]
         },
         "layout": {
          "annotationdefaults": {
           "arrowcolor": "#2a3f5f",
           "arrowhead": 0,
           "arrowwidth": 1
          },
          "autotypenumbers": "strict",
          "coloraxis": {
           "colorbar": {
            "outlinewidth": 0,
            "ticks": ""
           }
          },
          "colorscale": {
           "diverging": [
            [
             0,
             "#8e0152"
            ],
            [
             0.1,
             "#c51b7d"
            ],
            [
             0.2,
             "#de77ae"
            ],
            [
             0.3,
             "#f1b6da"
            ],
            [
             0.4,
             "#fde0ef"
            ],
            [
             0.5,
             "#f7f7f7"
            ],
            [
             0.6,
             "#e6f5d0"
            ],
            [
             0.7,
             "#b8e186"
            ],
            [
             0.8,
             "#7fbc41"
            ],
            [
             0.9,
             "#4d9221"
            ],
            [
             1,
             "#276419"
            ]
           ],
           "sequential": [
            [
             0,
             "#0d0887"
            ],
            [
             0.1111111111111111,
             "#46039f"
            ],
            [
             0.2222222222222222,
             "#7201a8"
            ],
            [
             0.3333333333333333,
             "#9c179e"
            ],
            [
             0.4444444444444444,
             "#bd3786"
            ],
            [
             0.5555555555555556,
             "#d8576b"
            ],
            [
             0.6666666666666666,
             "#ed7953"
            ],
            [
             0.7777777777777778,
             "#fb9f3a"
            ],
            [
             0.8888888888888888,
             "#fdca26"
            ],
            [
             1,
             "#f0f921"
            ]
           ],
           "sequentialminus": [
            [
             0,
             "#0d0887"
            ],
            [
             0.1111111111111111,
             "#46039f"
            ],
            [
             0.2222222222222222,
             "#7201a8"
            ],
            [
             0.3333333333333333,
             "#9c179e"
            ],
            [
             0.4444444444444444,
             "#bd3786"
            ],
            [
             0.5555555555555556,
             "#d8576b"
            ],
            [
             0.6666666666666666,
             "#ed7953"
            ],
            [
             0.7777777777777778,
             "#fb9f3a"
            ],
            [
             0.8888888888888888,
             "#fdca26"
            ],
            [
             1,
             "#f0f921"
            ]
           ]
          },
          "colorway": [
           "#636efa",
           "#EF553B",
           "#00cc96",
           "#ab63fa",
           "#FFA15A",
           "#19d3f3",
           "#FF6692",
           "#B6E880",
           "#FF97FF",
           "#FECB52"
          ],
          "font": {
           "color": "#2a3f5f"
          },
          "geo": {
           "bgcolor": "white",
           "lakecolor": "white",
           "landcolor": "#E5ECF6",
           "showlakes": true,
           "showland": true,
           "subunitcolor": "white"
          },
          "hoverlabel": {
           "align": "left"
          },
          "hovermode": "closest",
          "mapbox": {
           "style": "light"
          },
          "paper_bgcolor": "white",
          "plot_bgcolor": "#E5ECF6",
          "polar": {
           "angularaxis": {
            "gridcolor": "white",
            "linecolor": "white",
            "ticks": ""
           },
           "bgcolor": "#E5ECF6",
           "radialaxis": {
            "gridcolor": "white",
            "linecolor": "white",
            "ticks": ""
           }
          },
          "scene": {
           "xaxis": {
            "backgroundcolor": "#E5ECF6",
            "gridcolor": "white",
            "gridwidth": 2,
            "linecolor": "white",
            "showbackground": true,
            "ticks": "",
            "zerolinecolor": "white"
           },
           "yaxis": {
            "backgroundcolor": "#E5ECF6",
            "gridcolor": "white",
            "gridwidth": 2,
            "linecolor": "white",
            "showbackground": true,
            "ticks": "",
            "zerolinecolor": "white"
           },
           "zaxis": {
            "backgroundcolor": "#E5ECF6",
            "gridcolor": "white",
            "gridwidth": 2,
            "linecolor": "white",
            "showbackground": true,
            "ticks": "",
            "zerolinecolor": "white"
           }
          },
          "shapedefaults": {
           "line": {
            "color": "#2a3f5f"
           }
          },
          "ternary": {
           "aaxis": {
            "gridcolor": "white",
            "linecolor": "white",
            "ticks": ""
           },
           "baxis": {
            "gridcolor": "white",
            "linecolor": "white",
            "ticks": ""
           },
           "bgcolor": "#E5ECF6",
           "caxis": {
            "gridcolor": "white",
            "linecolor": "white",
            "ticks": ""
           }
          },
          "title": {
           "x": 0.05
          },
          "xaxis": {
           "automargin": true,
           "gridcolor": "white",
           "linecolor": "white",
           "ticks": "",
           "title": {
            "standoff": 15
           },
           "zerolinecolor": "white",
           "zerolinewidth": 2
          },
          "yaxis": {
           "automargin": true,
           "gridcolor": "white",
           "linecolor": "white",
           "ticks": "",
           "title": {
            "standoff": 15
           },
           "zerolinecolor": "white",
           "zerolinewidth": 2
          }
         }
        },
        "xaxis": {
         "gridcolor": "black",
         "linecolor": "white",
         "linewidth": 2,
         "rangeslider": {
          "visible": false
         },
         "showline": true
        },
        "yaxis": {
         "gridcolor": "black",
         "linecolor": "white",
         "linewidth": 2,
         "showline": true
        }
       }
      }
     },
     "metadata": {},
     "output_type": "display_data"
    }
   ],
   "source": [
    "dfpl = data[-90:-1]\n",
    "import plotly.graph_objects as go\n",
    "fig = go.Figure(data=[go.Candlestick(x=dfpl.index,\n",
    "                open=dfpl['Open'],\n",
    "                high=dfpl['High'],\n",
    "                low=dfpl['Low'],\n",
    "                close=dfpl['Close'],\n",
    "                increasing_line_color= 'yellow', decreasing_line_color= 'mediumorchid'),\n",
    "                go.Scatter(x=dfpl.index, y=[45000]*len(dfpl), line=dict(color='red', width=2), name=\"Support/Resistance\"),\n",
    "                go.Scatter(x=dfpl.index, y=[51000]*len(dfpl), line=dict(color='red', width=2), name=\"Support/Resistance\"),\n",
    "                go.Scatter(x=dfpl.index, y=dfpl.Low-100, mode=\"markers\", marker=dict(size=1, color=\"moccasin\"), name=\"Signal\")])\n",
    "fig.update(layout_xaxis_rangeslider_visible=False)\n",
    "fig.update_layout(paper_bgcolor=\"black\", plot_bgcolor=\"black\",\n",
    "                 margin_l=0, margin_b=0, margin_r=50, margin_t=0)\n",
    "fig.update_xaxes(showline=True, linewidth=2, linecolor='white', gridcolor='black')\n",
    "fig.update_yaxes(showline=True, linewidth=2, linecolor='white', gridcolor='black')\n",
    "fig.show()"
   ]
  },
  {
   "cell_type": "code",
   "execution_count": 5,
   "id": "4f283c56",
   "metadata": {},
   "outputs": [
    {
     "data": {
      "text/plain": [
       "Candlestick({\n",
       "    'close': array([52284.875     , 51839.1796875 , 51304.97265625, 50731.94921875,\n",
       "                    51571.1015625 , 51733.23828125, 54522.40234375, 57085.37109375,\n",
       "                    62504.7890625 , 61198.3828125 , 62440.6328125 , 62029.84765625,\n",
       "                    63167.37109375, 68330.4140625 , 63801.19921875, 66106.8046875 ,\n",
       "                    66925.484375  , 68300.09375   , 68498.8828125 , 69019.7890625 ,\n",
       "                    72123.90625   , 71481.2890625 , 73083.5       , 71396.59375   ,\n",
       "                    69403.7734375 , 65315.1171875 , 68390.625     , 67548.59375   ,\n",
       "                    61912.7734375 , 67913.671875  , 65491.390625  , 63778.76171875,\n",
       "                    64062.203125  , 67234.171875  , 69958.8125    , 69987.8359375 ,\n",
       "                    69455.34375   , 70744.953125  , 69892.828125  , 69645.3046875 ,\n",
       "                    71333.6484375 , 69702.1484375 , 65446.97265625, 65980.8125    ,\n",
       "                    68508.84375   , 67837.640625  , 68896.109375  , 69362.5546875 ,\n",
       "                    71631.359375  , 69139.015625  , 70587.8828125 , 70060.609375  ,\n",
       "                    67195.8671875 , 63821.47265625, 65738.7265625 , 63426.2109375 ,\n",
       "                    63811.86328125, 61276.69140625, 63512.75390625, 63843.5703125 ,\n",
       "                    64994.44140625, 64926.64453125, 66837.6796875 , 66407.2734375 ,\n",
       "                    64276.8984375 , 64481.70703125, 63755.3203125 , 63419.140625  ,\n",
       "                    63113.23046875, 63841.12109375, 60636.85546875, 58254.01171875,\n",
       "                    59123.43359375, 62889.8359375 , 63891.47265625, 64031.1328125 ,\n",
       "                    63161.94921875, 62334.81640625, 61187.94140625, 63049.9609375 ,\n",
       "                    60792.77734375, 60793.7109375 , 61448.39453125, 62901.44921875,\n",
       "                    61552.7890625 , 66267.4921875 , 65231.58203125, 67051.875     ,\n",
       "                    66940.8046875 ]),\n",
       "    'decreasing': {'line': {'color': 'mediumorchid'}},\n",
       "    'high': array([52945.05078125, 52368.81640625, 52009.61328125, 51497.93359375,\n",
       "                   51684.1953125 , 51950.02734375, 54938.17578125, 57537.83984375,\n",
       "                   63913.1328125 , 63585.64453125, 63155.1015625 , 62458.69921875,\n",
       "                   63230.2109375 , 68537.03125   , 69170.625     , 67637.9296875 ,\n",
       "                   68029.921875  , 70083.0546875 , 68673.0546875 , 70005.203125  ,\n",
       "                   72850.7109375 , 72825.65625   , 73637.4765625 , 73750.0703125 ,\n",
       "                   72357.1328125 , 70046.2734375 , 68845.71875   , 68897.1328125 ,\n",
       "                   68106.9296875 , 68115.2578125 , 68199.9921875 , 66623.75      ,\n",
       "                   65976.3984375 , 67622.7578125 , 71162.59375   , 71535.7421875 ,\n",
       "                   71727.6875    , 71546.0234375 , 70913.09375   , 70355.4921875 ,\n",
       "                   71377.78125   , 71342.09375   , 69708.3828125 , 66914.3203125 ,\n",
       "                   69291.2578125 , 68725.7578125 , 69629.6015625 , 70284.4296875 ,\n",
       "                   72715.359375  , 71742.5078125 , 71093.4296875 , 71256.234375  ,\n",
       "                   71222.7421875 , 67931.4296875 , 65824.4296875 , 66878.6484375 ,\n",
       "                   64355.66796875, 64486.36328125, 64125.6875    , 65481.59765625,\n",
       "                   65442.45703125, 65723.2421875 , 67233.9609375 , 67199.2421875 ,\n",
       "                   67075.3671875 , 65275.20703125, 64789.65625   , 63898.36328125,\n",
       "                   64321.484375  , 64174.87890625, 64703.33203125, 60780.5       ,\n",
       "                   59602.296875  , 63320.50390625, 64494.95703125, 64610.890625  ,\n",
       "                   65494.90234375, 64390.45703125, 62986.0859375 , 63404.9140625 ,\n",
       "                   63446.7421875 , 61451.15234375, 61818.15625   , 63422.66015625,\n",
       "                   63092.125     , 66454.453125  , 66712.4296875 , 67459.4609375 ,\n",
       "                   67387.328125  ]),\n",
       "    'increasing': {'line': {'color': 'yellow'}},\n",
       "    'low': array([50792.3125    , 50671.7578125 , 50926.29296875, 50561.77734375,\n",
       "                  50585.4453125 , 51306.171875  , 50931.03125   , 54484.19921875,\n",
       "                  56738.42578125, 60498.73046875, 60802.52734375, 61657.2890625 ,\n",
       "                  61435.0234375 , 62386.51953125, 59323.91015625, 62848.671875  ,\n",
       "                  65655.53125   , 66230.453125  , 68053.125     , 68239.9765625 ,\n",
       "                  67194.8828125 , 68728.8515625 , 71334.09375   , 68563.0234375 ,\n",
       "                  65630.6953125 , 64801.39453125, 64545.31640625, 66594.2265625 ,\n",
       "                  61536.1796875 , 60807.78515625, 64580.91796875, 62355.37109375,\n",
       "                  63038.4921875 , 63825.8515625 , 66414.8359375 , 69335.609375  ,\n",
       "                  68381.9296875 , 68895.5078125 , 69076.65625   , 69601.0625    ,\n",
       "                  69624.8671875 , 68110.6953125 , 64586.59375   , 64559.8984375 ,\n",
       "                  65113.796875  , 66011.4765625 , 67491.71875   , 68851.6328125 ,\n",
       "                  69064.2421875 , 68212.921875  , 67503.5625    , 69571.8125    ,\n",
       "                  65254.8359375 , 60919.10546875, 62205.8515625 , 62332.0703125 ,\n",
       "                  61716.40234375, 59768.5859375 , 60833.48046875, 59651.390625  ,\n",
       "                  63172.40234375, 64277.72265625, 64548.1796875 , 65864.8671875 ,\n",
       "                  63589.87109375, 62783.6328125 , 63322.3984375 , 62424.71875   ,\n",
       "                  62793.59765625, 61795.45703125, 59120.06640625, 56555.29296875,\n",
       "                  56937.203125  , 58848.3125    , 62599.3515625 , 62955.3046875 ,\n",
       "                  62746.23828125, 62285.98046875, 60877.12890625, 60648.07421875,\n",
       "                  60208.78125   , 60492.625     , 60632.6015625 , 60769.83984375,\n",
       "                  61123.765625  , 61330.41015625, 64613.0546875 , 65119.31640625,\n",
       "                  66663.5       ]),\n",
       "    'open': array([51777.7265625 , 52273.53515625, 51854.64453125, 51283.90625   ,\n",
       "                   50736.37109375, 51565.21484375, 51730.5390625 , 54519.36328125,\n",
       "                   57071.09765625, 62499.18359375, 61168.0625    , 62431.65234375,\n",
       "                   62031.578125  , 63137.00390625, 68341.0546875 , 63776.05078125,\n",
       "                   66099.7421875 , 66938.09375   , 68299.2578125 , 68500.2578125 ,\n",
       "                   69020.546875  , 72125.125     , 71482.1171875 , 73079.375     ,\n",
       "                   71387.875     , 69392.484375  , 65316.34375   , 68371.3046875 ,\n",
       "                   67556.1328125 , 61930.15625   , 67911.5859375 , 65489.9296875 ,\n",
       "                   63802.72265625, 64070.75390625, 67234.09375   , 69931.328125  ,\n",
       "                   69991.8984375 , 69452.7734375 , 70744.796875  , 69893.4453125 ,\n",
       "                   69647.78125   , 71333.484375  , 69705.0234375 , 65446.671875  ,\n",
       "                   65975.6953125 , 68515.7578125 , 67840.5703125 , 68897.109375  ,\n",
       "                   69362.5546875 , 71632.5       , 69140.2421875 , 70575.734375  ,\n",
       "                   70061.3828125 , 67188.375     , 63836.23046875, 65739.6484375 ,\n",
       "                   63419.296875  , 63831.84765625, 61275.31640625, 63510.75      ,\n",
       "                   63851.1015625 , 64992.81640625, 64935.6328125 , 66839.890625  ,\n",
       "                   66408.71875   , 64275.01953125, 64485.37109375, 63750.98828125,\n",
       "                   63423.515625  , 63106.36328125, 63839.41796875, 60609.49609375,\n",
       "                   58253.703125  , 59122.30078125, 62891.03125   , 63892.453125  ,\n",
       "                   64038.3125    , 63162.76171875, 62332.640625  , 61191.19921875,\n",
       "                   63055.19140625, 60793.35546875, 60793.50390625, 61451.21875   ,\n",
       "                   62900.7734375 , 61553.98828125, 66256.109375  , 65231.296875  ,\n",
       "                   67066.2109375 ]),\n",
       "    'x': array([datetime.datetime(2024, 2, 20, 0, 0),\n",
       "                datetime.datetime(2024, 2, 21, 0, 0),\n",
       "                datetime.datetime(2024, 2, 22, 0, 0),\n",
       "                datetime.datetime(2024, 2, 23, 0, 0),\n",
       "                datetime.datetime(2024, 2, 24, 0, 0),\n",
       "                datetime.datetime(2024, 2, 25, 0, 0),\n",
       "                datetime.datetime(2024, 2, 26, 0, 0),\n",
       "                datetime.datetime(2024, 2, 27, 0, 0),\n",
       "                datetime.datetime(2024, 2, 28, 0, 0),\n",
       "                datetime.datetime(2024, 2, 29, 0, 0),\n",
       "                datetime.datetime(2024, 3, 1, 0, 0),\n",
       "                datetime.datetime(2024, 3, 2, 0, 0),\n",
       "                datetime.datetime(2024, 3, 3, 0, 0),\n",
       "                datetime.datetime(2024, 3, 4, 0, 0),\n",
       "                datetime.datetime(2024, 3, 5, 0, 0),\n",
       "                datetime.datetime(2024, 3, 6, 0, 0),\n",
       "                datetime.datetime(2024, 3, 7, 0, 0),\n",
       "                datetime.datetime(2024, 3, 8, 0, 0),\n",
       "                datetime.datetime(2024, 3, 9, 0, 0),\n",
       "                datetime.datetime(2024, 3, 10, 0, 0),\n",
       "                datetime.datetime(2024, 3, 11, 0, 0),\n",
       "                datetime.datetime(2024, 3, 12, 0, 0),\n",
       "                datetime.datetime(2024, 3, 13, 0, 0),\n",
       "                datetime.datetime(2024, 3, 14, 0, 0),\n",
       "                datetime.datetime(2024, 3, 15, 0, 0),\n",
       "                datetime.datetime(2024, 3, 16, 0, 0),\n",
       "                datetime.datetime(2024, 3, 17, 0, 0),\n",
       "                datetime.datetime(2024, 3, 18, 0, 0),\n",
       "                datetime.datetime(2024, 3, 19, 0, 0),\n",
       "                datetime.datetime(2024, 3, 20, 0, 0),\n",
       "                datetime.datetime(2024, 3, 21, 0, 0),\n",
       "                datetime.datetime(2024, 3, 22, 0, 0),\n",
       "                datetime.datetime(2024, 3, 23, 0, 0),\n",
       "                datetime.datetime(2024, 3, 24, 0, 0),\n",
       "                datetime.datetime(2024, 3, 25, 0, 0),\n",
       "                datetime.datetime(2024, 3, 26, 0, 0),\n",
       "                datetime.datetime(2024, 3, 27, 0, 0),\n",
       "                datetime.datetime(2024, 3, 28, 0, 0),\n",
       "                datetime.datetime(2024, 3, 29, 0, 0),\n",
       "                datetime.datetime(2024, 3, 30, 0, 0),\n",
       "                datetime.datetime(2024, 3, 31, 0, 0),\n",
       "                datetime.datetime(2024, 4, 1, 0, 0),\n",
       "                datetime.datetime(2024, 4, 2, 0, 0),\n",
       "                datetime.datetime(2024, 4, 3, 0, 0),\n",
       "                datetime.datetime(2024, 4, 4, 0, 0),\n",
       "                datetime.datetime(2024, 4, 5, 0, 0),\n",
       "                datetime.datetime(2024, 4, 6, 0, 0),\n",
       "                datetime.datetime(2024, 4, 7, 0, 0),\n",
       "                datetime.datetime(2024, 4, 8, 0, 0),\n",
       "                datetime.datetime(2024, 4, 9, 0, 0),\n",
       "                datetime.datetime(2024, 4, 10, 0, 0),\n",
       "                datetime.datetime(2024, 4, 11, 0, 0),\n",
       "                datetime.datetime(2024, 4, 12, 0, 0),\n",
       "                datetime.datetime(2024, 4, 13, 0, 0),\n",
       "                datetime.datetime(2024, 4, 14, 0, 0),\n",
       "                datetime.datetime(2024, 4, 15, 0, 0),\n",
       "                datetime.datetime(2024, 4, 16, 0, 0),\n",
       "                datetime.datetime(2024, 4, 17, 0, 0),\n",
       "                datetime.datetime(2024, 4, 18, 0, 0),\n",
       "                datetime.datetime(2024, 4, 19, 0, 0),\n",
       "                datetime.datetime(2024, 4, 20, 0, 0),\n",
       "                datetime.datetime(2024, 4, 21, 0, 0),\n",
       "                datetime.datetime(2024, 4, 22, 0, 0),\n",
       "                datetime.datetime(2024, 4, 23, 0, 0),\n",
       "                datetime.datetime(2024, 4, 24, 0, 0),\n",
       "                datetime.datetime(2024, 4, 25, 0, 0),\n",
       "                datetime.datetime(2024, 4, 26, 0, 0),\n",
       "                datetime.datetime(2024, 4, 27, 0, 0),\n",
       "                datetime.datetime(2024, 4, 28, 0, 0),\n",
       "                datetime.datetime(2024, 4, 29, 0, 0),\n",
       "                datetime.datetime(2024, 4, 30, 0, 0),\n",
       "                datetime.datetime(2024, 5, 1, 0, 0),\n",
       "                datetime.datetime(2024, 5, 2, 0, 0),\n",
       "                datetime.datetime(2024, 5, 3, 0, 0),\n",
       "                datetime.datetime(2024, 5, 4, 0, 0),\n",
       "                datetime.datetime(2024, 5, 5, 0, 0),\n",
       "                datetime.datetime(2024, 5, 6, 0, 0),\n",
       "                datetime.datetime(2024, 5, 7, 0, 0),\n",
       "                datetime.datetime(2024, 5, 8, 0, 0),\n",
       "                datetime.datetime(2024, 5, 9, 0, 0),\n",
       "                datetime.datetime(2024, 5, 10, 0, 0),\n",
       "                datetime.datetime(2024, 5, 11, 0, 0),\n",
       "                datetime.datetime(2024, 5, 12, 0, 0),\n",
       "                datetime.datetime(2024, 5, 13, 0, 0),\n",
       "                datetime.datetime(2024, 5, 14, 0, 0),\n",
       "                datetime.datetime(2024, 5, 15, 0, 0),\n",
       "                datetime.datetime(2024, 5, 16, 0, 0),\n",
       "                datetime.datetime(2024, 5, 17, 0, 0),\n",
       "                datetime.datetime(2024, 5, 18, 0, 0)], dtype=object)\n",
       "})"
      ]
     },
     "execution_count": 5,
     "metadata": {},
     "output_type": "execute_result"
    }
   ],
   "source": [
    "fig.data[0]"
   ]
  },
  {
   "cell_type": "code",
   "execution_count": null,
   "id": "0f69d5c9",
   "metadata": {},
   "outputs": [],
   "source": []
  }
 ],
 "metadata": {
  "kernelspec": {
   "display_name": "Python 3 (ipykernel)",
   "language": "python",
   "name": "python3"
  },
  "language_info": {
   "codemirror_mode": {
    "name": "ipython",
    "version": 3
   },
   "file_extension": ".py",
   "mimetype": "text/x-python",
   "name": "python",
   "nbconvert_exporter": "python",
   "pygments_lexer": "ipython3",
   "version": "3.12.3"
  }
 },
 "nbformat": 4,
 "nbformat_minor": 5
}
