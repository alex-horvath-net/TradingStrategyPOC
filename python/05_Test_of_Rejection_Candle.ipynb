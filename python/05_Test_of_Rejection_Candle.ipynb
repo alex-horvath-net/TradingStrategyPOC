{
 "cells": [
  {
   "cell_type": "code",
   "execution_count": 12,
   "metadata": {},
   "outputs": [
    {
     "name": "stderr",
     "output_type": "stream",
     "text": [
      "[*********************100%%**********************]  1 of 1 completed\n"
     ]
    }
   ],
   "source": [
    "import yfinance as yf\n",
    "import pandas as pd\n",
    "\n",
    "dataF = yf.download(tickers='BTC',start='2024-01-01', end='2024-04-30', interval='1d')"
   ]
  },
  {
   "cell_type": "code",
   "execution_count": 13,
   "metadata": {},
   "outputs": [],
   "source": [
    "dataF=dataF[dataF[\"High\"]!=dataF['Low']] #remove cloed market data\n",
    "dataF.reset_index(inplace=True)\n",
    "#dataF"
   ]
  },
  {
   "cell_type": "code",
   "execution_count": 14,
   "metadata": {},
   "outputs": [
    {
     "name": "stderr",
     "output_type": "stream",
     "text": [
      "C:\\Users\\alada\\AppData\\Local\\Temp\\ipykernel_35692\\120112563.py:44: SettingWithCopyWarning:\n",
      "\n",
      "\n",
      "A value is trying to be set on a copy of a slice from a DataFrame.\n",
      "Try using .loc[row_indexer,col_indexer] = value instead\n",
      "\n",
      "See the caveats in the documentation: https://pandas.pydata.org/pandas-docs/stable/user_guide/indexing.html#returning-a-view-versus-a-copy\n",
      "\n",
      "C:\\Users\\alada\\AppData\\Local\\Temp\\ipykernel_35692\\120112563.py:50: SettingWithCopyWarning:\n",
      "\n",
      "\n",
      "A value is trying to be set on a copy of a slice from a DataFrame.\n",
      "Try using .loc[row_indexer,col_indexer] = value instead\n",
      "\n",
      "See the caveats in the documentation: https://pandas.pydata.org/pandas-docs/stable/user_guide/indexing.html#returning-a-view-versus-a-copy\n",
      "\n"
     ]
    }
   ],
   "source": [
    "def rejection_signal(df): \n",
    "    #bullish signal\n",
    "    if ( df.Open.iloc[-1] < df.Close.iloc[-1] and\n",
    "       (df.High.iloc[-1] - df.Close.iloc[-1]) < abs(df.Open.iloc[-1]-df.Close.iloc[-1])/10 and\n",
    "       (df.Open.iloc[-1] - df.Low.iloc[-1]) > abs(df.Open.iloc[-1]-df.Close.iloc[-1])*5):\n",
    "        return 2\n",
    "    \n",
    "    #bearish signal\n",
    "    elif ( df.Open.iloc[-1] > df.Close.iloc[-1] and\n",
    "       (df.High.iloc[-1] - df.Open.iloc[-1]) > abs(df.Open.iloc[-1]-df.Close.iloc[-1])*5 and\n",
    "       (df.Close.iloc[-1] - df.Low.iloc[-1]) < abs(df.Open.iloc[-1]-df.Close.iloc[-1])/10):\n",
    "        return 1\n",
    "    \n",
    "    #nosignal\n",
    "    else:\n",
    "        return 0\n",
    "\n",
    "def engulfing_signal(df):\n",
    "    # Get the current and previous candles\n",
    "    previous_candle = df.iloc[-2]\n",
    "    current_candle = df.iloc[-1]\n",
    "\n",
    "    # Check for bullish engulfing\n",
    "    if ( (current_candle['Close'] > previous_candle['Open']) \n",
    "        and (current_candle['Open'] < previous_candle['Close'])\n",
    "        and (previous_candle['Open'] > previous_candle['Close']) ):\n",
    "        return 2\n",
    "\n",
    "    # Check for bearish engulfing\n",
    "    elif ( (current_candle['Open'] > previous_candle['Close']) \n",
    "          and (current_candle['Close'] < previous_candle['Open']) \n",
    "          and (previous_candle['Close'] > previous_candle['Open']) ):\n",
    "        return 1\n",
    "\n",
    "    # Return 0 for any other case\n",
    "    else:\n",
    "        return 0\n",
    "    \n",
    "\n",
    "signal = [0]*len(dataF)\n",
    "for i in range(3,len(dataF)):\n",
    "    df = dataF[i-3:i+1]\n",
    "    signal[i]= rejection_signal(df)\n",
    "dataF[\"rejection_signal\"] = signal\n",
    "\n",
    "signal = [0]*len(dataF)\n",
    "for i in range(1,len(dataF)):\n",
    "    df = dataF[i-1:i+1]\n",
    "    signal[i]= engulfing_signal(df)\n",
    "dataF[\"engulfing_signal\"] = signal"
   ]
  },
  {
   "cell_type": "code",
   "execution_count": 15,
   "metadata": {},
   "outputs": [],
   "source": [
    "up_count = 0\n",
    "down_count = 0\n",
    "total_count = 0\n",
    "\n",
    "for i in range(len(dataF) - 1):\n",
    "    if dataF.engulfing_signal.iloc[i] == 1:\n",
    "        total_count += 1\n",
    "        if dataF.Close.iloc[i+1] > dataF.Open.iloc[i+1]:\n",
    "            up_count += 1\n",
    "        elif dataF.Close.iloc[i+1] < dataF.Open.iloc[i+1]:\n",
    "            down_count += 1\n",
    "\n",
    "up_percentage = (up_count / total_count) * 100\n",
    "down_percentage = (down_count / total_count) * 100"
   ]
  },
  {
   "cell_type": "code",
   "execution_count": 16,
   "metadata": {},
   "outputs": [
    {
     "name": "stdout",
     "output_type": "stream",
     "text": [
      "0.0 100.0 3\n"
     ]
    }
   ],
   "source": [
    "print(up_percentage, down_percentage, total_count)"
   ]
  },
  {
   "cell_type": "code",
   "execution_count": 17,
   "metadata": {},
   "outputs": [
    {
     "data": {
      "text/html": [
       "<div>\n",
       "<style scoped>\n",
       "    .dataframe tbody tr th:only-of-type {\n",
       "        vertical-align: middle;\n",
       "    }\n",
       "\n",
       "    .dataframe tbody tr th {\n",
       "        vertical-align: top;\n",
       "    }\n",
       "\n",
       "    .dataframe thead th {\n",
       "        text-align: right;\n",
       "    }\n",
       "</style>\n",
       "<table border=\"1\" class=\"dataframe\">\n",
       "  <thead>\n",
       "    <tr style=\"text-align: right;\">\n",
       "      <th></th>\n",
       "      <th>Date</th>\n",
       "      <th>Open</th>\n",
       "      <th>High</th>\n",
       "      <th>Low</th>\n",
       "      <th>Close</th>\n",
       "      <th>Adj Close</th>\n",
       "      <th>Volume</th>\n",
       "      <th>rejection_signal</th>\n",
       "      <th>engulfing_signal</th>\n",
       "    </tr>\n",
       "  </thead>\n",
       "  <tbody>\n",
       "    <tr>\n",
       "      <th>8</th>\n",
       "      <td>2024-01-24</td>\n",
       "      <td>92.190002</td>\n",
       "      <td>92.190002</td>\n",
       "      <td>91.806396</td>\n",
       "      <td>91.806396</td>\n",
       "      <td>91.249931</td>\n",
       "      <td>371</td>\n",
       "      <td>0</td>\n",
       "      <td>1</td>\n",
       "    </tr>\n",
       "    <tr>\n",
       "      <th>24</th>\n",
       "      <td>2024-02-27</td>\n",
       "      <td>91.610001</td>\n",
       "      <td>91.610001</td>\n",
       "      <td>91.449997</td>\n",
       "      <td>91.487999</td>\n",
       "      <td>90.933464</td>\n",
       "      <td>724</td>\n",
       "      <td>0</td>\n",
       "      <td>1</td>\n",
       "    </tr>\n",
       "    <tr>\n",
       "      <th>32</th>\n",
       "      <td>2024-03-15</td>\n",
       "      <td>91.809998</td>\n",
       "      <td>91.809998</td>\n",
       "      <td>91.730202</td>\n",
       "      <td>91.730202</td>\n",
       "      <td>91.174194</td>\n",
       "      <td>436</td>\n",
       "      <td>0</td>\n",
       "      <td>1</td>\n",
       "    </tr>\n",
       "  </tbody>\n",
       "</table>\n",
       "</div>"
      ],
      "text/plain": [
       "         Date       Open       High        Low      Close  Adj Close  Volume  \\\n",
       "8  2024-01-24  92.190002  92.190002  91.806396  91.806396  91.249931     371   \n",
       "24 2024-02-27  91.610001  91.610001  91.449997  91.487999  90.933464     724   \n",
       "32 2024-03-15  91.809998  91.809998  91.730202  91.730202  91.174194     436   \n",
       "\n",
       "    rejection_signal  engulfing_signal  \n",
       "8                  0                 1  \n",
       "24                 0                 1  \n",
       "32                 0                 1  "
      ]
     },
     "execution_count": 17,
     "metadata": {},
     "output_type": "execute_result"
    }
   ],
   "source": [
    "dataF[dataF[\"engulfing_signal\"]==1]"
   ]
  },
  {
   "cell_type": "code",
   "execution_count": 18,
   "metadata": {},
   "outputs": [
    {
     "data": {
      "application/vnd.plotly.v1+json": {
       "config": {
        "plotlyServerURL": "https://plot.ly"
       },
       "data": [
        {
         "close": [
          91.83499908447266,
          91.99720001220703,
          91.96499633789062,
          92.31890106201172,
          92.506103515625,
          92.18489837646484,
          91.92870330810547,
          91.8416976928711,
          91.806396484375,
          92.08599853515625,
          91.99500274658203,
          92.50360107421875,
          92.82080078125,
          91.84500122070312,
          92.16999816894531,
          92.2031021118164,
          92.13999938964844,
          91.93509674072266,
          91.99400329589844,
          91.44309997558594,
          91.6686019897461,
          91.6791000366211,
          91.58989715576172,
          91.5552978515625,
          91.48799896240234,
          92.0250015258789,
          91.92630004882812,
          92.1449966430664,
          92.22840118408203,
          92.45980072021484,
          92.37999725341797,
          91.80500030517578,
          91.7302017211914,
          91.69499969482422,
          91.9000015258789,
          92.04299926757812,
          92.09510040283203,
          91.78079986572266,
          91.76100158691406,
          91.3759994506836,
          91.52539825439453,
          90.62110137939453,
          90.61199951171875,
          90.58779907226562,
          90.63169860839844,
          90.4625015258789,
          90.57949829101562,
          90.71369934082031,
          90.59919738769531,
          90.36000061035156,
          90.67230224609375
         ],
         "high": [
          91.86589813232422,
          91.99720001220703,
          92.01000213623047,
          92.31890106201172,
          92.6511001586914,
          92.25,
          91.92870330810547,
          91.8416976928711,
          92.19000244140625,
          92.12000274658203,
          92.05000305175781,
          92.59290313720703,
          92.9448013305664,
          91.9000015258789,
          92.22000122070312,
          92.26000213623047,
          92.18000030517578,
          91.93509674072266,
          91.99400329589844,
          91.5999984741211,
          91.68000030517578,
          91.6791000366211,
          91.6500015258789,
          91.5552978515625,
          91.61000061035156,
          92.04000091552734,
          91.97000122070312,
          92.1449966430664,
          92.3499984741211,
          92.5,
          92.40959930419922,
          91.86990356445312,
          91.80999755859375,
          91.75,
          91.9000015258789,
          92.0999984741211,
          92.1500015258789,
          91.78079986572266,
          91.80000305175781,
          91.38999938964844,
          91.52539825439453,
          90.80999755859375,
          90.63490295410156,
          90.61000061035156,
          90.6500015258789,
          90.4625015258789,
          90.57949829101562,
          90.83000183105469,
          90.59919738769531,
          90.37570190429688,
          90.70980072021484
         ],
         "low": [
          91.83499908447266,
          91.94000244140625,
          91.96499633789062,
          92.26000213623047,
          92.506103515625,
          92.18489837646484,
          91.91000366210938,
          91.82659912109375,
          91.806396484375,
          92.08599853515625,
          91.9800033569336,
          92.50360107421875,
          92.7300033569336,
          91.84500122070312,
          92.16999816894531,
          92.12000274658203,
          92.08999633789062,
          91.86000061035156,
          91.91999816894531,
          91.44309997558594,
          91.62000274658203,
          91.66999816894531,
          91.58000183105469,
          91.51000213623047,
          91.44999694824219,
          92.0250015258789,
          91.92630004882812,
          92.05999755859375,
          92.22840118408203,
          92.37999725341797,
          92.37999725341797,
          91.78500366210938,
          91.7302017211914,
          91.69499969482422,
          91.89250183105469,
          91.83999633789062,
          92.06999969482422,
          91.66000366210938,
          91.68000030517578,
          91.27999877929688,
          91.36669921875,
          90.56999969482422,
          90.61199951171875,
          90.50990295410156,
          90.52999877929688,
          90.2699966430664,
          90.48999786376953,
          90.62999725341797,
          90.4801025390625,
          90.33000183105469,
          90.61000061035156
         ],
         "open": [
          91.86589813232422,
          91.94000244140625,
          92.01000213623047,
          92.26000213623047,
          92.6511001586914,
          92.25,
          91.91000366210938,
          91.82659912109375,
          92.19000244140625,
          92.08999633789062,
          91.9800033569336,
          92.59290313720703,
          92.7300033569336,
          91.87999725341797,
          92.18000030517578,
          92.20999908447266,
          92.11000061035156,
          91.86000061035156,
          91.91999816894531,
          91.5999984741211,
          91.62000274658203,
          91.66999816894531,
          91.6500015258789,
          91.51000213623047,
          91.61000061035156,
          92.04000091552734,
          91.97000122070312,
          92.05999755859375,
          92.3499984741211,
          92.37999725341797,
          92.40959930419922,
          91.78500366210938,
          91.80999755859375,
          91.73269653320312,
          91.89250183105469,
          91.83999633789062,
          92.11000061035156,
          91.66000366210938,
          91.7300033569336,
          91.27999877929688,
          91.38500213623047,
          90.80999755859375,
          90.62000274658203,
          90.50990295410156,
          90.6500015258789,
          90.4000015258789,
          90.48999786376953,
          90.66020202636719,
          90.4801025390625,
          90.36000061035156,
          90.70980072021484
         ],
         "type": "candlestick",
         "x": [
          0,
          1,
          2,
          3,
          4,
          5,
          6,
          7,
          8,
          9,
          10,
          11,
          12,
          13,
          14,
          15,
          16,
          17,
          18,
          19,
          20,
          21,
          22,
          23,
          24,
          25,
          26,
          27,
          28,
          29,
          30,
          31,
          32,
          33,
          34,
          35,
          36,
          37,
          38,
          39,
          40,
          41,
          42,
          43,
          44,
          45,
          46,
          47,
          48,
          49,
          50
         ]
        }
       ],
       "layout": {
        "template": {
         "data": {
          "bar": [
           {
            "error_x": {
             "color": "#2a3f5f"
            },
            "error_y": {
             "color": "#2a3f5f"
            },
            "marker": {
             "line": {
              "color": "#E5ECF6",
              "width": 0.5
             },
             "pattern": {
              "fillmode": "overlay",
              "size": 10,
              "solidity": 0.2
             }
            },
            "type": "bar"
           }
          ],
          "barpolar": [
           {
            "marker": {
             "line": {
              "color": "#E5ECF6",
              "width": 0.5
             },
             "pattern": {
              "fillmode": "overlay",
              "size": 10,
              "solidity": 0.2
             }
            },
            "type": "barpolar"
           }
          ],
          "carpet": [
           {
            "aaxis": {
             "endlinecolor": "#2a3f5f",
             "gridcolor": "white",
             "linecolor": "white",
             "minorgridcolor": "white",
             "startlinecolor": "#2a3f5f"
            },
            "baxis": {
             "endlinecolor": "#2a3f5f",
             "gridcolor": "white",
             "linecolor": "white",
             "minorgridcolor": "white",
             "startlinecolor": "#2a3f5f"
            },
            "type": "carpet"
           }
          ],
          "choropleth": [
           {
            "colorbar": {
             "outlinewidth": 0,
             "ticks": ""
            },
            "type": "choropleth"
           }
          ],
          "contour": [
           {
            "colorbar": {
             "outlinewidth": 0,
             "ticks": ""
            },
            "colorscale": [
             [
              0,
              "#0d0887"
             ],
             [
              0.1111111111111111,
              "#46039f"
             ],
             [
              0.2222222222222222,
              "#7201a8"
             ],
             [
              0.3333333333333333,
              "#9c179e"
             ],
             [
              0.4444444444444444,
              "#bd3786"
             ],
             [
              0.5555555555555556,
              "#d8576b"
             ],
             [
              0.6666666666666666,
              "#ed7953"
             ],
             [
              0.7777777777777778,
              "#fb9f3a"
             ],
             [
              0.8888888888888888,
              "#fdca26"
             ],
             [
              1,
              "#f0f921"
             ]
            ],
            "type": "contour"
           }
          ],
          "contourcarpet": [
           {
            "colorbar": {
             "outlinewidth": 0,
             "ticks": ""
            },
            "type": "contourcarpet"
           }
          ],
          "heatmap": [
           {
            "colorbar": {
             "outlinewidth": 0,
             "ticks": ""
            },
            "colorscale": [
             [
              0,
              "#0d0887"
             ],
             [
              0.1111111111111111,
              "#46039f"
             ],
             [
              0.2222222222222222,
              "#7201a8"
             ],
             [
              0.3333333333333333,
              "#9c179e"
             ],
             [
              0.4444444444444444,
              "#bd3786"
             ],
             [
              0.5555555555555556,
              "#d8576b"
             ],
             [
              0.6666666666666666,
              "#ed7953"
             ],
             [
              0.7777777777777778,
              "#fb9f3a"
             ],
             [
              0.8888888888888888,
              "#fdca26"
             ],
             [
              1,
              "#f0f921"
             ]
            ],
            "type": "heatmap"
           }
          ],
          "heatmapgl": [
           {
            "colorbar": {
             "outlinewidth": 0,
             "ticks": ""
            },
            "colorscale": [
             [
              0,
              "#0d0887"
             ],
             [
              0.1111111111111111,
              "#46039f"
             ],
             [
              0.2222222222222222,
              "#7201a8"
             ],
             [
              0.3333333333333333,
              "#9c179e"
             ],
             [
              0.4444444444444444,
              "#bd3786"
             ],
             [
              0.5555555555555556,
              "#d8576b"
             ],
             [
              0.6666666666666666,
              "#ed7953"
             ],
             [
              0.7777777777777778,
              "#fb9f3a"
             ],
             [
              0.8888888888888888,
              "#fdca26"
             ],
             [
              1,
              "#f0f921"
             ]
            ],
            "type": "heatmapgl"
           }
          ],
          "histogram": [
           {
            "marker": {
             "pattern": {
              "fillmode": "overlay",
              "size": 10,
              "solidity": 0.2
             }
            },
            "type": "histogram"
           }
          ],
          "histogram2d": [
           {
            "colorbar": {
             "outlinewidth": 0,
             "ticks": ""
            },
            "colorscale": [
             [
              0,
              "#0d0887"
             ],
             [
              0.1111111111111111,
              "#46039f"
             ],
             [
              0.2222222222222222,
              "#7201a8"
             ],
             [
              0.3333333333333333,
              "#9c179e"
             ],
             [
              0.4444444444444444,
              "#bd3786"
             ],
             [
              0.5555555555555556,
              "#d8576b"
             ],
             [
              0.6666666666666666,
              "#ed7953"
             ],
             [
              0.7777777777777778,
              "#fb9f3a"
             ],
             [
              0.8888888888888888,
              "#fdca26"
             ],
             [
              1,
              "#f0f921"
             ]
            ],
            "type": "histogram2d"
           }
          ],
          "histogram2dcontour": [
           {
            "colorbar": {
             "outlinewidth": 0,
             "ticks": ""
            },
            "colorscale": [
             [
              0,
              "#0d0887"
             ],
             [
              0.1111111111111111,
              "#46039f"
             ],
             [
              0.2222222222222222,
              "#7201a8"
             ],
             [
              0.3333333333333333,
              "#9c179e"
             ],
             [
              0.4444444444444444,
              "#bd3786"
             ],
             [
              0.5555555555555556,
              "#d8576b"
             ],
             [
              0.6666666666666666,
              "#ed7953"
             ],
             [
              0.7777777777777778,
              "#fb9f3a"
             ],
             [
              0.8888888888888888,
              "#fdca26"
             ],
             [
              1,
              "#f0f921"
             ]
            ],
            "type": "histogram2dcontour"
           }
          ],
          "mesh3d": [
           {
            "colorbar": {
             "outlinewidth": 0,
             "ticks": ""
            },
            "type": "mesh3d"
           }
          ],
          "parcoords": [
           {
            "line": {
             "colorbar": {
              "outlinewidth": 0,
              "ticks": ""
             }
            },
            "type": "parcoords"
           }
          ],
          "pie": [
           {
            "automargin": true,
            "type": "pie"
           }
          ],
          "scatter": [
           {
            "fillpattern": {
             "fillmode": "overlay",
             "size": 10,
             "solidity": 0.2
            },
            "type": "scatter"
           }
          ],
          "scatter3d": [
           {
            "line": {
             "colorbar": {
              "outlinewidth": 0,
              "ticks": ""
             }
            },
            "marker": {
             "colorbar": {
              "outlinewidth": 0,
              "ticks": ""
             }
            },
            "type": "scatter3d"
           }
          ],
          "scattercarpet": [
           {
            "marker": {
             "colorbar": {
              "outlinewidth": 0,
              "ticks": ""
             }
            },
            "type": "scattercarpet"
           }
          ],
          "scattergeo": [
           {
            "marker": {
             "colorbar": {
              "outlinewidth": 0,
              "ticks": ""
             }
            },
            "type": "scattergeo"
           }
          ],
          "scattergl": [
           {
            "marker": {
             "colorbar": {
              "outlinewidth": 0,
              "ticks": ""
             }
            },
            "type": "scattergl"
           }
          ],
          "scattermapbox": [
           {
            "marker": {
             "colorbar": {
              "outlinewidth": 0,
              "ticks": ""
             }
            },
            "type": "scattermapbox"
           }
          ],
          "scatterpolar": [
           {
            "marker": {
             "colorbar": {
              "outlinewidth": 0,
              "ticks": ""
             }
            },
            "type": "scatterpolar"
           }
          ],
          "scatterpolargl": [
           {
            "marker": {
             "colorbar": {
              "outlinewidth": 0,
              "ticks": ""
             }
            },
            "type": "scatterpolargl"
           }
          ],
          "scatterternary": [
           {
            "marker": {
             "colorbar": {
              "outlinewidth": 0,
              "ticks": ""
             }
            },
            "type": "scatterternary"
           }
          ],
          "surface": [
           {
            "colorbar": {
             "outlinewidth": 0,
             "ticks": ""
            },
            "colorscale": [
             [
              0,
              "#0d0887"
             ],
             [
              0.1111111111111111,
              "#46039f"
             ],
             [
              0.2222222222222222,
              "#7201a8"
             ],
             [
              0.3333333333333333,
              "#9c179e"
             ],
             [
              0.4444444444444444,
              "#bd3786"
             ],
             [
              0.5555555555555556,
              "#d8576b"
             ],
             [
              0.6666666666666666,
              "#ed7953"
             ],
             [
              0.7777777777777778,
              "#fb9f3a"
             ],
             [
              0.8888888888888888,
              "#fdca26"
             ],
             [
              1,
              "#f0f921"
             ]
            ],
            "type": "surface"
           }
          ],
          "table": [
           {
            "cells": {
             "fill": {
              "color": "#EBF0F8"
             },
             "line": {
              "color": "white"
             }
            },
            "header": {
             "fill": {
              "color": "#C8D4E3"
             },
             "line": {
              "color": "white"
             }
            },
            "type": "table"
           }
          ]
         },
         "layout": {
          "annotationdefaults": {
           "arrowcolor": "#2a3f5f",
           "arrowhead": 0,
           "arrowwidth": 1
          },
          "autotypenumbers": "strict",
          "coloraxis": {
           "colorbar": {
            "outlinewidth": 0,
            "ticks": ""
           }
          },
          "colorscale": {
           "diverging": [
            [
             0,
             "#8e0152"
            ],
            [
             0.1,
             "#c51b7d"
            ],
            [
             0.2,
             "#de77ae"
            ],
            [
             0.3,
             "#f1b6da"
            ],
            [
             0.4,
             "#fde0ef"
            ],
            [
             0.5,
             "#f7f7f7"
            ],
            [
             0.6,
             "#e6f5d0"
            ],
            [
             0.7,
             "#b8e186"
            ],
            [
             0.8,
             "#7fbc41"
            ],
            [
             0.9,
             "#4d9221"
            ],
            [
             1,
             "#276419"
            ]
           ],
           "sequential": [
            [
             0,
             "#0d0887"
            ],
            [
             0.1111111111111111,
             "#46039f"
            ],
            [
             0.2222222222222222,
             "#7201a8"
            ],
            [
             0.3333333333333333,
             "#9c179e"
            ],
            [
             0.4444444444444444,
             "#bd3786"
            ],
            [
             0.5555555555555556,
             "#d8576b"
            ],
            [
             0.6666666666666666,
             "#ed7953"
            ],
            [
             0.7777777777777778,
             "#fb9f3a"
            ],
            [
             0.8888888888888888,
             "#fdca26"
            ],
            [
             1,
             "#f0f921"
            ]
           ],
           "sequentialminus": [
            [
             0,
             "#0d0887"
            ],
            [
             0.1111111111111111,
             "#46039f"
            ],
            [
             0.2222222222222222,
             "#7201a8"
            ],
            [
             0.3333333333333333,
             "#9c179e"
            ],
            [
             0.4444444444444444,
             "#bd3786"
            ],
            [
             0.5555555555555556,
             "#d8576b"
            ],
            [
             0.6666666666666666,
             "#ed7953"
            ],
            [
             0.7777777777777778,
             "#fb9f3a"
            ],
            [
             0.8888888888888888,
             "#fdca26"
            ],
            [
             1,
             "#f0f921"
            ]
           ]
          },
          "colorway": [
           "#636efa",
           "#EF553B",
           "#00cc96",
           "#ab63fa",
           "#FFA15A",
           "#19d3f3",
           "#FF6692",
           "#B6E880",
           "#FF97FF",
           "#FECB52"
          ],
          "font": {
           "color": "#2a3f5f"
          },
          "geo": {
           "bgcolor": "white",
           "lakecolor": "white",
           "landcolor": "#E5ECF6",
           "showlakes": true,
           "showland": true,
           "subunitcolor": "white"
          },
          "hoverlabel": {
           "align": "left"
          },
          "hovermode": "closest",
          "mapbox": {
           "style": "light"
          },
          "paper_bgcolor": "white",
          "plot_bgcolor": "#E5ECF6",
          "polar": {
           "angularaxis": {
            "gridcolor": "white",
            "linecolor": "white",
            "ticks": ""
           },
           "bgcolor": "#E5ECF6",
           "radialaxis": {
            "gridcolor": "white",
            "linecolor": "white",
            "ticks": ""
           }
          },
          "scene": {
           "xaxis": {
            "backgroundcolor": "#E5ECF6",
            "gridcolor": "white",
            "gridwidth": 2,
            "linecolor": "white",
            "showbackground": true,
            "ticks": "",
            "zerolinecolor": "white"
           },
           "yaxis": {
            "backgroundcolor": "#E5ECF6",
            "gridcolor": "white",
            "gridwidth": 2,
            "linecolor": "white",
            "showbackground": true,
            "ticks": "",
            "zerolinecolor": "white"
           },
           "zaxis": {
            "backgroundcolor": "#E5ECF6",
            "gridcolor": "white",
            "gridwidth": 2,
            "linecolor": "white",
            "showbackground": true,
            "ticks": "",
            "zerolinecolor": "white"
           }
          },
          "shapedefaults": {
           "line": {
            "color": "#2a3f5f"
           }
          },
          "ternary": {
           "aaxis": {
            "gridcolor": "white",
            "linecolor": "white",
            "ticks": ""
           },
           "baxis": {
            "gridcolor": "white",
            "linecolor": "white",
            "ticks": ""
           },
           "bgcolor": "#E5ECF6",
           "caxis": {
            "gridcolor": "white",
            "linecolor": "white",
            "ticks": ""
           }
          },
          "title": {
           "x": 0.05
          },
          "xaxis": {
           "automargin": true,
           "gridcolor": "white",
           "linecolor": "white",
           "ticks": "",
           "title": {
            "standoff": 15
           },
           "zerolinecolor": "white",
           "zerolinewidth": 2
          },
          "yaxis": {
           "automargin": true,
           "gridcolor": "white",
           "linecolor": "white",
           "ticks": "",
           "title": {
            "standoff": 15
           },
           "zerolinecolor": "white",
           "zerolinewidth": 2
          }
         }
        }
       }
      }
     },
     "metadata": {},
     "output_type": "display_data"
    }
   ],
   "source": [
    "import plotly.graph_objects as go\n",
    "\n",
    "st = 0\n",
    "dfpl = dataF[st:st+150].copy()\n",
    "fig = go.Figure(data=[go.Candlestick(x=dfpl.index, open=dfpl['Open'], high=dfpl['High'], low=dfpl['Low'],    close=dfpl['Close'])])\n",
    "\n",
    "fig.show()"
   ]
  },
  {
   "cell_type": "code",
   "execution_count": 19,
   "metadata": {},
   "outputs": [
    {
     "name": "stderr",
     "output_type": "stream",
     "text": [
      "C:\\Users\\alada\\AppData\\Local\\Temp\\ipykernel_35692\\3275755919.py:21: SettingWithCopyWarning:\n",
      "\n",
      "\n",
      "A value is trying to be set on a copy of a slice from a DataFrame.\n",
      "Try using .loc[row_indexer,col_indexer] = value instead\n",
      "\n",
      "See the caveats in the documentation: https://pandas.pydata.org/pandas-docs/stable/user_guide/indexing.html#returning-a-view-versus-a-copy\n",
      "\n"
     ]
    }
   ],
   "source": [
    "def average_next_n_candles(df, i, N):\n",
    "    # Check if there are N candles after the current one\n",
    "    if i + N >= len(df):\n",
    "        return None\n",
    "\n",
    "    # Compute the average closing price of the next N candles\n",
    "    avg_price = df['Close'].iloc[i+1:i+N+1].mean()\n",
    "\n",
    "    # Compare the average price to the current closing price\n",
    "    if avg_price < df['Close'].iloc[i]:\n",
    "        return 1\n",
    "    elif avg_price > df['Close'].iloc[i]:\n",
    "        return 2\n",
    "    else:\n",
    "        return 0\n",
    "\n",
    "N=4\n",
    "signal = [0]*len(dataF)\n",
    "for i in range(len(dataF)-N):\n",
    "    signal[i]= average_next_n_candles(dataF, i, N)\n",
    "dataF[\"price_target\"] = signal"
   ]
  },
  {
   "cell_type": "code",
   "execution_count": 20,
   "metadata": {},
   "outputs": [
    {
     "data": {
      "text/plain": [
       "Date                4\n",
       "Open                4\n",
       "High                4\n",
       "Low                 4\n",
       "Close               4\n",
       "Adj Close           4\n",
       "Volume              4\n",
       "rejection_signal    4\n",
       "engulfing_signal    4\n",
       "price_target        4\n",
       "dtype: int64"
      ]
     },
     "execution_count": 20,
     "metadata": {},
     "output_type": "execute_result"
    }
   ],
   "source": [
    "dataF[dataF[\"engulfing_signal\"]==dataF[\"price_target\"]].count()"
   ]
  },
  {
   "cell_type": "code",
   "execution_count": 21,
   "metadata": {},
   "outputs": [],
   "source": [
    "equal_count = 0\n",
    "different_count = 0\n",
    "total_count = 0\n",
    "\n",
    "for i in range(len(dataF)):\n",
    "    if dataF.engulfing_signal.iloc[i] != 0:\n",
    "        total_count += 1\n",
    "        if dataF.engulfing_signal.iloc[i] == dataF.price_target.iloc[i]:\n",
    "            equal_count += 1\n",
    "        else:\n",
    "            different_count += 1\n",
    "\n",
    "equal_percentage = (equal_count / total_count) * 100\n",
    "different_percentage = (different_count / total_count) * 100"
   ]
  },
  {
   "cell_type": "code",
   "execution_count": 22,
   "metadata": {},
   "outputs": [
    {
     "name": "stdout",
     "output_type": "stream",
     "text": [
      "0.0 100.0\n"
     ]
    }
   ],
   "source": [
    "print(equal_percentage, different_percentage)"
   ]
  },
  {
   "cell_type": "code",
   "execution_count": null,
   "metadata": {},
   "outputs": [],
   "source": []
  }
 ],
 "metadata": {
  "kernelspec": {
   "display_name": "Python 3",
   "language": "python",
   "name": "python3"
  },
  "language_info": {
   "codemirror_mode": {
    "name": "ipython",
    "version": 3
   },
   "file_extension": ".py",
   "mimetype": "text/x-python",
   "name": "python",
   "nbconvert_exporter": "python",
   "pygments_lexer": "ipython3",
   "version": "3.12.3"
  },
  "orig_nbformat": 4
 },
 "nbformat": 4,
 "nbformat_minor": 2
}
