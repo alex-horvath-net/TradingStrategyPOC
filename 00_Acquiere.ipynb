{
 "cells": [
  {
   "cell_type": "markdown",
   "metadata": {},
   "source": [
    "- visit python.org/download\n",
    "- python --version\n",
    "- download vscode"
   ]
  },
  {
   "cell_type": "code",
   "execution_count": 4,
   "metadata": {},
   "outputs": [],
   "source": [
    "import yfinance as yf # Version: 0.2.38\n",
    "import pandas as pd   # Version: 2.2.2\n",
    "import pandas_ta as ta   # Version: 2.2.2\n",
    "import plotly.graph_objects as go # Version: 5.22.0\n",
    "from plotly.subplots import make_subplots\n",
    "import matplotlib.pyplot as pp # Version: 3.9.0\n"
   ]
  },
  {
   "cell_type": "code",
   "execution_count": 5,
   "metadata": {},
   "outputs": [
    {
     "name": "stderr",
     "output_type": "stream",
     "text": [
      "[*********************100%%**********************]  1 of 1 completed\n"
     ]
    }
   ],
   "source": [
    "#Download historical data\n",
    "ticker_symbol = \"BTC-USD\"\n",
    "period= \"100d\"\n",
    "start = \"2024-02-01\"\n",
    "end = \"2024-03-28\"\n",
    "interval = \"1d\"\n",
    "raw_data_file_path= \"BTCUSD_Candlestick_1_Hour_BID_01.01.2024-31.01.2024.csv\"\n",
    "ticker = yf.Ticker(ticker_symbol)\n",
    "#historical_data = ticker.history(start=start, end=end, interval=interval) #1m-7d / <1d-60d\n",
    "#historical_data = ticker.history(period=period, interval=interval)\n",
    "#historical_data = yf.download(tickers=ticker_symbol, period=period, interval=interval )\n",
    "#historical_data = pd.read_csv(raw_data_file_path)\n",
    "historical_data = yf.download(tickers='BTC-USD', period='max', interval='1d')"
   ]
  },
  {
   "cell_type": "code",
   "execution_count": 6,
   "metadata": {},
   "outputs": [],
   "source": [
    "# cleaning historical_data\n",
    "historical_data.reset_index(inplace=True)\n",
    "historical_data = historical_data[ historical_data[\"Volume\"]!=0 ] # clean empty volumes\n",
    "df = historical_data[:500]\n",
    "df = df.copy()"
   ]
  },
  {
   "cell_type": "markdown",
   "metadata": {},
   "source": []
  },
  {
   "cell_type": "markdown",
   "metadata": {},
   "source": []
  }
 ],
 "metadata": {
  "kernelspec": {
   "display_name": "Python 3",
   "language": "python",
   "name": "python3"
  },
  "language_info": {
   "codemirror_mode": {
    "name": "ipython",
    "version": 3
   },
   "file_extension": ".py",
   "mimetype": "text/x-python",
   "name": "python",
   "nbconvert_exporter": "python",
   "pygments_lexer": "ipython3",
   "version": "3.12.3"
  },
  "orig_nbformat": 4
 },
 "nbformat": 4,
 "nbformat_minor": 2
}
