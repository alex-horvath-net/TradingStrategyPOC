{
 "cells": [
  {
   "cell_type": "markdown",
   "metadata": {},
   "source": [
    "- visit python.org/download\n",
    "- python --version\n",
    "- download vscode"
   ]
  },
  {
   "cell_type": "markdown",
   "metadata": {},
   "source": []
  },
  {
   "cell_type": "code",
   "execution_count": 23,
   "metadata": {},
   "outputs": [
    {
     "ename": "AttributeError",
     "evalue": "module 'trader' has no attribute 'trader'",
     "output_type": "error",
     "traceback": [
      "\u001b[1;31m---------------------------------------------------------------------------\u001b[0m",
      "\u001b[1;31mAttributeError\u001b[0m                            Traceback (most recent call last)",
      "Cell \u001b[1;32mIn[23], line 3\u001b[0m\n\u001b[0;32m      1\u001b[0m \u001b[38;5;66;03m#create an instance of trader class and run cell_0 function\u001b[39;00m\n\u001b[0;32m      2\u001b[0m \u001b[38;5;28;01mimport\u001b[39;00m \u001b[38;5;21;01mtrader\u001b[39;00m\n\u001b[1;32m----> 3\u001b[0m my_trader \u001b[38;5;241m=\u001b[39m  \u001b[43mtrader\u001b[49m\u001b[38;5;241;43m.\u001b[39;49m\u001b[43mtrader\u001b[49m()  \u001b[38;5;66;03m# Create an instance of the trader class\u001b[39;00m\n\u001b[0;32m      4\u001b[0m my_trader\u001b[38;5;241m.\u001b[39mcell_0()    \u001b[38;5;66;03m# Call the cell_0 method on the instance\u001b[39;00m\n",
      "\u001b[1;31mAttributeError\u001b[0m: module 'trader' has no attribute 'trader'"
     ]
    }
   ],
   "source": [
    "#create an instance of trader class and run cell_0 function\n"
   ]
  },
  {
   "cell_type": "markdown",
   "metadata": {},
   "source": []
  }
 ],
 "metadata": {
  "kernelspec": {
   "display_name": "Python 3",
   "language": "python",
   "name": "python3"
  },
  "language_info": {
   "codemirror_mode": {
    "name": "ipython",
    "version": 3
   },
   "file_extension": ".py",
   "mimetype": "text/x-python",
   "name": "python",
   "nbconvert_exporter": "python",
   "pygments_lexer": "ipython3",
   "version": "3.12.3"
  },
  "orig_nbformat": 4
 },
 "nbformat": 4,
 "nbformat_minor": 2
}
